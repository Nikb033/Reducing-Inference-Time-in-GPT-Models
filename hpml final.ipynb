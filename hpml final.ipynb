{
  "nbformat": 4,
  "nbformat_minor": 0,
  "metadata": {
    "colab": {
      "provenance": [],
      "machine_shape": "hm",
      "gpuType": "A100",
      "collapsed_sections": [
        "p5uqyx72KiM-",
        "_nkm5-tBKtvz"
      ]
    },
    "kernelspec": {
      "name": "python3",
      "display_name": "Python 3"
    },
    "language_info": {
      "name": "python"
    },
    "accelerator": "GPU",
    "widgets": {
      "application/vnd.jupyter.widget-state+json": {
        "a78b3ca6797049ab872b199969b71824": {
          "model_module": "@jupyter-widgets/controls",
          "model_name": "HBoxModel",
          "model_module_version": "1.5.0",
          "state": {
            "_dom_classes": [],
            "_model_module": "@jupyter-widgets/controls",
            "_model_module_version": "1.5.0",
            "_model_name": "HBoxModel",
            "_view_count": null,
            "_view_module": "@jupyter-widgets/controls",
            "_view_module_version": "1.5.0",
            "_view_name": "HBoxView",
            "box_style": "",
            "children": [
              "IPY_MODEL_0c88e6e91d894e81aeb3799b89e7f8c1",
              "IPY_MODEL_2c77d33a078240de962b3b70dfe1cb4a",
              "IPY_MODEL_dbffb7447eeb4c34a49d249a8e446a7d"
            ],
            "layout": "IPY_MODEL_badb880e1a3b42f39d794e3d64b93d59"
          }
        },
        "0c88e6e91d894e81aeb3799b89e7f8c1": {
          "model_module": "@jupyter-widgets/controls",
          "model_name": "HTMLModel",
          "model_module_version": "1.5.0",
          "state": {
            "_dom_classes": [],
            "_model_module": "@jupyter-widgets/controls",
            "_model_module_version": "1.5.0",
            "_model_name": "HTMLModel",
            "_view_count": null,
            "_view_module": "@jupyter-widgets/controls",
            "_view_module_version": "1.5.0",
            "_view_name": "HTMLView",
            "description": "",
            "description_tooltip": null,
            "layout": "IPY_MODEL_48362a9453a44b19befd9b18bacc6137",
            "placeholder": "​",
            "style": "IPY_MODEL_e34b3f2f0fc243b3b42d186928d821ed",
            "value": "Map: 100%"
          }
        },
        "2c77d33a078240de962b3b70dfe1cb4a": {
          "model_module": "@jupyter-widgets/controls",
          "model_name": "FloatProgressModel",
          "model_module_version": "1.5.0",
          "state": {
            "_dom_classes": [],
            "_model_module": "@jupyter-widgets/controls",
            "_model_module_version": "1.5.0",
            "_model_name": "FloatProgressModel",
            "_view_count": null,
            "_view_module": "@jupyter-widgets/controls",
            "_view_module_version": "1.5.0",
            "_view_name": "ProgressView",
            "bar_style": "success",
            "description": "",
            "description_tooltip": null,
            "layout": "IPY_MODEL_2a814f85f59e4d34b2de26deed5414f7",
            "max": 10,
            "min": 0,
            "orientation": "horizontal",
            "style": "IPY_MODEL_089375b97456492e9b4d775a8448fff0",
            "value": 10
          }
        },
        "dbffb7447eeb4c34a49d249a8e446a7d": {
          "model_module": "@jupyter-widgets/controls",
          "model_name": "HTMLModel",
          "model_module_version": "1.5.0",
          "state": {
            "_dom_classes": [],
            "_model_module": "@jupyter-widgets/controls",
            "_model_module_version": "1.5.0",
            "_model_name": "HTMLModel",
            "_view_count": null,
            "_view_module": "@jupyter-widgets/controls",
            "_view_module_version": "1.5.0",
            "_view_name": "HTMLView",
            "description": "",
            "description_tooltip": null,
            "layout": "IPY_MODEL_74af3c07f8374a24bf11ce207d03656c",
            "placeholder": "​",
            "style": "IPY_MODEL_9159c522fda04eacb675d786ba1a4da0",
            "value": " 10/10 [00:00&lt;00:00, 302.88 examples/s]"
          }
        },
        "badb880e1a3b42f39d794e3d64b93d59": {
          "model_module": "@jupyter-widgets/base",
          "model_name": "LayoutModel",
          "model_module_version": "1.2.0",
          "state": {
            "_model_module": "@jupyter-widgets/base",
            "_model_module_version": "1.2.0",
            "_model_name": "LayoutModel",
            "_view_count": null,
            "_view_module": "@jupyter-widgets/base",
            "_view_module_version": "1.2.0",
            "_view_name": "LayoutView",
            "align_content": null,
            "align_items": null,
            "align_self": null,
            "border": null,
            "bottom": null,
            "display": null,
            "flex": null,
            "flex_flow": null,
            "grid_area": null,
            "grid_auto_columns": null,
            "grid_auto_flow": null,
            "grid_auto_rows": null,
            "grid_column": null,
            "grid_gap": null,
            "grid_row": null,
            "grid_template_areas": null,
            "grid_template_columns": null,
            "grid_template_rows": null,
            "height": null,
            "justify_content": null,
            "justify_items": null,
            "left": null,
            "margin": null,
            "max_height": null,
            "max_width": null,
            "min_height": null,
            "min_width": null,
            "object_fit": null,
            "object_position": null,
            "order": null,
            "overflow": null,
            "overflow_x": null,
            "overflow_y": null,
            "padding": null,
            "right": null,
            "top": null,
            "visibility": null,
            "width": null
          }
        },
        "48362a9453a44b19befd9b18bacc6137": {
          "model_module": "@jupyter-widgets/base",
          "model_name": "LayoutModel",
          "model_module_version": "1.2.0",
          "state": {
            "_model_module": "@jupyter-widgets/base",
            "_model_module_version": "1.2.0",
            "_model_name": "LayoutModel",
            "_view_count": null,
            "_view_module": "@jupyter-widgets/base",
            "_view_module_version": "1.2.0",
            "_view_name": "LayoutView",
            "align_content": null,
            "align_items": null,
            "align_self": null,
            "border": null,
            "bottom": null,
            "display": null,
            "flex": null,
            "flex_flow": null,
            "grid_area": null,
            "grid_auto_columns": null,
            "grid_auto_flow": null,
            "grid_auto_rows": null,
            "grid_column": null,
            "grid_gap": null,
            "grid_row": null,
            "grid_template_areas": null,
            "grid_template_columns": null,
            "grid_template_rows": null,
            "height": null,
            "justify_content": null,
            "justify_items": null,
            "left": null,
            "margin": null,
            "max_height": null,
            "max_width": null,
            "min_height": null,
            "min_width": null,
            "object_fit": null,
            "object_position": null,
            "order": null,
            "overflow": null,
            "overflow_x": null,
            "overflow_y": null,
            "padding": null,
            "right": null,
            "top": null,
            "visibility": null,
            "width": null
          }
        },
        "e34b3f2f0fc243b3b42d186928d821ed": {
          "model_module": "@jupyter-widgets/controls",
          "model_name": "DescriptionStyleModel",
          "model_module_version": "1.5.0",
          "state": {
            "_model_module": "@jupyter-widgets/controls",
            "_model_module_version": "1.5.0",
            "_model_name": "DescriptionStyleModel",
            "_view_count": null,
            "_view_module": "@jupyter-widgets/base",
            "_view_module_version": "1.2.0",
            "_view_name": "StyleView",
            "description_width": ""
          }
        },
        "2a814f85f59e4d34b2de26deed5414f7": {
          "model_module": "@jupyter-widgets/base",
          "model_name": "LayoutModel",
          "model_module_version": "1.2.0",
          "state": {
            "_model_module": "@jupyter-widgets/base",
            "_model_module_version": "1.2.0",
            "_model_name": "LayoutModel",
            "_view_count": null,
            "_view_module": "@jupyter-widgets/base",
            "_view_module_version": "1.2.0",
            "_view_name": "LayoutView",
            "align_content": null,
            "align_items": null,
            "align_self": null,
            "border": null,
            "bottom": null,
            "display": null,
            "flex": null,
            "flex_flow": null,
            "grid_area": null,
            "grid_auto_columns": null,
            "grid_auto_flow": null,
            "grid_auto_rows": null,
            "grid_column": null,
            "grid_gap": null,
            "grid_row": null,
            "grid_template_areas": null,
            "grid_template_columns": null,
            "grid_template_rows": null,
            "height": null,
            "justify_content": null,
            "justify_items": null,
            "left": null,
            "margin": null,
            "max_height": null,
            "max_width": null,
            "min_height": null,
            "min_width": null,
            "object_fit": null,
            "object_position": null,
            "order": null,
            "overflow": null,
            "overflow_x": null,
            "overflow_y": null,
            "padding": null,
            "right": null,
            "top": null,
            "visibility": null,
            "width": null
          }
        },
        "089375b97456492e9b4d775a8448fff0": {
          "model_module": "@jupyter-widgets/controls",
          "model_name": "ProgressStyleModel",
          "model_module_version": "1.5.0",
          "state": {
            "_model_module": "@jupyter-widgets/controls",
            "_model_module_version": "1.5.0",
            "_model_name": "ProgressStyleModel",
            "_view_count": null,
            "_view_module": "@jupyter-widgets/base",
            "_view_module_version": "1.2.0",
            "_view_name": "StyleView",
            "bar_color": null,
            "description_width": ""
          }
        },
        "74af3c07f8374a24bf11ce207d03656c": {
          "model_module": "@jupyter-widgets/base",
          "model_name": "LayoutModel",
          "model_module_version": "1.2.0",
          "state": {
            "_model_module": "@jupyter-widgets/base",
            "_model_module_version": "1.2.0",
            "_model_name": "LayoutModel",
            "_view_count": null,
            "_view_module": "@jupyter-widgets/base",
            "_view_module_version": "1.2.0",
            "_view_name": "LayoutView",
            "align_content": null,
            "align_items": null,
            "align_self": null,
            "border": null,
            "bottom": null,
            "display": null,
            "flex": null,
            "flex_flow": null,
            "grid_area": null,
            "grid_auto_columns": null,
            "grid_auto_flow": null,
            "grid_auto_rows": null,
            "grid_column": null,
            "grid_gap": null,
            "grid_row": null,
            "grid_template_areas": null,
            "grid_template_columns": null,
            "grid_template_rows": null,
            "height": null,
            "justify_content": null,
            "justify_items": null,
            "left": null,
            "margin": null,
            "max_height": null,
            "max_width": null,
            "min_height": null,
            "min_width": null,
            "object_fit": null,
            "object_position": null,
            "order": null,
            "overflow": null,
            "overflow_x": null,
            "overflow_y": null,
            "padding": null,
            "right": null,
            "top": null,
            "visibility": null,
            "width": null
          }
        },
        "9159c522fda04eacb675d786ba1a4da0": {
          "model_module": "@jupyter-widgets/controls",
          "model_name": "DescriptionStyleModel",
          "model_module_version": "1.5.0",
          "state": {
            "_model_module": "@jupyter-widgets/controls",
            "_model_module_version": "1.5.0",
            "_model_name": "DescriptionStyleModel",
            "_view_count": null,
            "_view_module": "@jupyter-widgets/base",
            "_view_module_version": "1.2.0",
            "_view_name": "StyleView",
            "description_width": ""
          }
        }
      }
    }
  },
  "cells": [
    {
      "cell_type": "markdown",
      "source": [
        "### Installation\n",
        "\n",
        "\n"
      ],
      "metadata": {
        "id": "awVeBc3ZKUl5"
      }
    },
    {
      "cell_type": "code",
      "source": [
        "!nvidia-smi --query-gpu=name,utilization.gpu,utilization.memory,memory.total,memory.free --format=csv"
      ],
      "metadata": {
        "colab": {
          "base_uri": "https://localhost:8080/"
        },
        "id": "_uIjy2T7BuRA",
        "outputId": "7e931587-eeb5-49c0-d701-9dc63f4f5a2c",
        "collapsed": true
      },
      "execution_count": 1,
      "outputs": [
        {
          "output_type": "stream",
          "name": "stdout",
          "text": [
            "name, utilization.gpu [%], utilization.memory [%], memory.total [MiB], memory.free [MiB]\n",
            "NVIDIA A100-SXM4-40GB, 0 %, 0 %, 40960 MiB, 40506 MiB\n"
          ]
        }
      ]
    },
    {
      "cell_type": "code",
      "source": [
        "import torch\n",
        "device = torch.device(\"cuda\")"
      ],
      "metadata": {
        "id": "s3uS_e2UfTat"
      },
      "execution_count": 2,
      "outputs": []
    },
    {
      "cell_type": "code",
      "source": [
        "!nvcc --version"
      ],
      "metadata": {
        "colab": {
          "base_uri": "https://localhost:8080/"
        },
        "id": "lZGhEBKBhlhe",
        "outputId": "f8f52767-dd90-4552-e9ac-a0ff380274e3"
      },
      "execution_count": 3,
      "outputs": [
        {
          "output_type": "stream",
          "name": "stdout",
          "text": [
            "nvcc: NVIDIA (R) Cuda compiler driver\n",
            "Copyright (c) 2005-2024 NVIDIA Corporation\n",
            "Built on Thu_Jun__6_02:18:23_PDT_2024\n",
            "Cuda compilation tools, release 12.5, V12.5.82\n",
            "Build cuda_12.5.r12.5/compiler.34385749_0\n"
          ]
        }
      ]
    },
    {
      "cell_type": "code",
      "source": [
        "!pip install --upgrade pip setuptools wheel\n",
        "!apt-get update\n",
        "!apt-get install -y build-essential libopenblas-dev libomp-dev\n",
        "!apt-get install -y cuda-libraries-12-2"
      ],
      "metadata": {
        "colab": {
          "base_uri": "https://localhost:8080/"
        },
        "id": "rwz2uEyFkDax",
        "outputId": "561148fa-b9d7-4e70-e29f-df4e816fa80a",
        "collapsed": true
      },
      "execution_count": 4,
      "outputs": [
        {
          "output_type": "stream",
          "name": "stdout",
          "text": [
            "Requirement already satisfied: pip in /usr/local/lib/python3.11/dist-packages (25.1.1)\n",
            "Requirement already satisfied: setuptools in /usr/local/lib/python3.11/dist-packages (80.4.0)\n",
            "Requirement already satisfied: wheel in /usr/local/lib/python3.11/dist-packages (0.45.1)\n",
            "Hit:1 https://cloud.r-project.org/bin/linux/ubuntu jammy-cran40/ InRelease\n",
            "Hit:2 https://developer.download.nvidia.com/compute/cuda/repos/ubuntu2204/x86_64  InRelease\n",
            "Hit:3 http://archive.ubuntu.com/ubuntu jammy InRelease\n",
            "Get:4 http://archive.ubuntu.com/ubuntu jammy-updates InRelease [128 kB]\n",
            "Hit:5 https://r2u.stat.illinois.edu/ubuntu jammy InRelease\n",
            "Get:6 http://security.ubuntu.com/ubuntu jammy-security InRelease [129 kB]\n",
            "Hit:7 http://archive.ubuntu.com/ubuntu jammy-backports InRelease\n",
            "Hit:8 https://ppa.launchpadcontent.net/deadsnakes/ppa/ubuntu jammy InRelease\n",
            "Hit:9 https://ppa.launchpadcontent.net/graphics-drivers/ppa/ubuntu jammy InRelease\n",
            "Hit:10 https://ppa.launchpadcontent.net/ubuntugis/ppa/ubuntu jammy InRelease\n",
            "Fetched 257 kB in 1s (262 kB/s)\n",
            "Reading package lists... Done\n",
            "W: Skipping acquire of configured file 'main/source/Sources' as repository 'https://r2u.stat.illinois.edu/ubuntu jammy InRelease' does not seem to provide it (sources.list entry misspelt?)\n",
            "Reading package lists... Done\n",
            "Building dependency tree... Done\n",
            "Reading state information... Done\n",
            "build-essential is already the newest version (12.9ubuntu3).\n",
            "libomp-dev is already the newest version (1:14.0-55~exp2).\n",
            "libopenblas-dev is already the newest version (0.3.20+ds-1).\n",
            "0 upgraded, 0 newly installed, 0 to remove and 34 not upgraded.\n",
            "Reading package lists... Done\n",
            "Building dependency tree... Done\n",
            "Reading state information... Done\n",
            "cuda-libraries-12-2 is already the newest version (12.2.2-1).\n",
            "0 upgraded, 0 newly installed, 0 to remove and 34 not upgraded.\n"
          ]
        }
      ]
    },
    {
      "cell_type": "code",
      "source": [
        "!pip install torch --pre --index-url https://download.pytorch.org/whl/nightly/cu122"
      ],
      "metadata": {
        "colab": {
          "base_uri": "https://localhost:8080/"
        },
        "id": "lxUFUbBUnSda",
        "outputId": "a88eace5-cc05-4cbe-de61-b1a9123e0753",
        "collapsed": true
      },
      "execution_count": 5,
      "outputs": [
        {
          "output_type": "stream",
          "name": "stdout",
          "text": [
            "Looking in indexes: https://download.pytorch.org/whl/nightly/cu122\n",
            "Requirement already satisfied: torch in /usr/local/lib/python3.11/dist-packages (2.6.0+cu124)\n",
            "Requirement already satisfied: filelock in /usr/local/lib/python3.11/dist-packages (from torch) (3.18.0)\n",
            "Requirement already satisfied: typing-extensions>=4.10.0 in /usr/local/lib/python3.11/dist-packages (from torch) (4.13.2)\n",
            "Requirement already satisfied: networkx in /usr/local/lib/python3.11/dist-packages (from torch) (3.4.2)\n",
            "Requirement already satisfied: jinja2 in /usr/local/lib/python3.11/dist-packages (from torch) (3.1.6)\n",
            "Requirement already satisfied: fsspec in /usr/local/lib/python3.11/dist-packages (from torch) (2025.3.0)\n",
            "Requirement already satisfied: nvidia-cuda-nvrtc-cu12==12.4.127 in /usr/local/lib/python3.11/dist-packages (from torch) (12.4.127)\n",
            "Requirement already satisfied: nvidia-cuda-runtime-cu12==12.4.127 in /usr/local/lib/python3.11/dist-packages (from torch) (12.4.127)\n",
            "Requirement already satisfied: nvidia-cuda-cupti-cu12==12.4.127 in /usr/local/lib/python3.11/dist-packages (from torch) (12.4.127)\n",
            "Requirement already satisfied: nvidia-cudnn-cu12==9.1.0.70 in /usr/local/lib/python3.11/dist-packages (from torch) (9.1.0.70)\n",
            "Requirement already satisfied: nvidia-cublas-cu12==12.4.5.8 in /usr/local/lib/python3.11/dist-packages (from torch) (12.4.5.8)\n",
            "Requirement already satisfied: nvidia-cufft-cu12==11.2.1.3 in /usr/local/lib/python3.11/dist-packages (from torch) (11.2.1.3)\n",
            "Requirement already satisfied: nvidia-curand-cu12==10.3.5.147 in /usr/local/lib/python3.11/dist-packages (from torch) (10.3.5.147)\n",
            "Requirement already satisfied: nvidia-cusolver-cu12==11.6.1.9 in /usr/local/lib/python3.11/dist-packages (from torch) (11.6.1.9)\n",
            "Requirement already satisfied: nvidia-cusparse-cu12==12.3.1.170 in /usr/local/lib/python3.11/dist-packages (from torch) (12.3.1.170)\n",
            "Requirement already satisfied: nvidia-cusparselt-cu12==0.6.2 in /usr/local/lib/python3.11/dist-packages (from torch) (0.6.2)\n",
            "Requirement already satisfied: nvidia-nccl-cu12==2.21.5 in /usr/local/lib/python3.11/dist-packages (from torch) (2.21.5)\n",
            "Requirement already satisfied: nvidia-nvtx-cu12==12.4.127 in /usr/local/lib/python3.11/dist-packages (from torch) (12.4.127)\n",
            "Requirement already satisfied: nvidia-nvjitlink-cu12==12.4.127 in /usr/local/lib/python3.11/dist-packages (from torch) (12.4.127)\n",
            "Requirement already satisfied: triton==3.2.0 in /usr/local/lib/python3.11/dist-packages (from torch) (3.2.0)\n",
            "Requirement already satisfied: sympy==1.13.1 in /usr/local/lib/python3.11/dist-packages (from torch) (1.13.1)\n",
            "Requirement already satisfied: mpmath<1.4,>=1.1.0 in /usr/local/lib/python3.11/dist-packages (from sympy==1.13.1->torch) (1.3.0)\n",
            "Requirement already satisfied: MarkupSafe>=2.0 in /usr/local/lib/python3.11/dist-packages (from jinja2->torch) (3.0.2)\n"
          ]
        }
      ]
    },
    {
      "cell_type": "code",
      "source": [
        "!sudo ln -sf /usr/local/cuda-12.2/lib64/libcudart.so.12 /usr/lib/x86_64-linux-gnu/libcudart.so.11\n",
        "!sudo ln -sf /usr/local/cuda-12.2/lib64/libcudart.so.12 /usr/lib/x86_64-linux-gnu/libcudart.so.11.0"
      ],
      "metadata": {
        "id": "-tFxGjBdp1Vz"
      },
      "execution_count": 6,
      "outputs": []
    },
    {
      "cell_type": "code",
      "source": [
        "!ls -l /usr/lib/x86_64-linux-gnu/libcudart.so.11*"
      ],
      "metadata": {
        "colab": {
          "base_uri": "https://localhost:8080/"
        },
        "id": "32rq_Duot7Jz",
        "outputId": "cb5d1d07-1dea-4d5c-93d9-60168b1738d5"
      },
      "execution_count": 7,
      "outputs": [
        {
          "output_type": "stream",
          "name": "stdout",
          "text": [
            "lrwxrwxrwx 1 root root 42 May  9 21:53 /usr/lib/x86_64-linux-gnu/libcudart.so.11 -> /usr/local/cuda-12.2/lib64/libcudart.so.12\n",
            "lrwxrwxrwx 1 root root 42 May  9 21:53 /usr/lib/x86_64-linux-gnu/libcudart.so.11.0 -> /usr/local/cuda-12.2/lib64/libcudart.so.12\n"
          ]
        }
      ]
    },
    {
      "cell_type": "code",
      "source": [
        "!export FORCE_CUDA=\"1\"\n",
        "!export TORCH_CUDA_ARCH_LIST=\"7.5\"\n",
        "!export PATH=\"/usr/local/cuda-12.2/bin:$PATH\"\n",
        "!export LD_LIBRARY_PATH=\"/usr/local/cuda-12.2/lib64:$LD_LIBRARY_PATH\""
      ],
      "metadata": {
        "id": "8baQe5HBnWMr"
      },
      "execution_count": 8,
      "outputs": []
    },
    {
      "cell_type": "code",
      "source": [
        "!pip uninstall -y flash-attn"
      ],
      "metadata": {
        "colab": {
          "base_uri": "https://localhost:8080/"
        },
        "id": "ijZJvgKYr4yQ",
        "outputId": "a34fca0f-cb1c-4c60-f2a6-d29ca8b8ca54"
      },
      "execution_count": 9,
      "outputs": [
        {
          "output_type": "stream",
          "name": "stdout",
          "text": [
            "Found existing installation: flash_attn 2.7.4.post1\n",
            "Uninstalling flash_attn-2.7.4.post1:\n",
            "  Successfully uninstalled flash_attn-2.7.4.post1\n"
          ]
        }
      ]
    },
    {
      "cell_type": "code",
      "source": [
        "!git clone https://github.com/HazyResearch/flash-attention.git\n",
        "%cd flash-attention"
      ],
      "metadata": {
        "colab": {
          "base_uri": "https://localhost:8080/"
        },
        "id": "mh-EQHfFv1Bd",
        "outputId": "c73a356b-7577-41b2-cb82-d2efc45f059e",
        "collapsed": true
      },
      "execution_count": 10,
      "outputs": [
        {
          "output_type": "stream",
          "name": "stdout",
          "text": [
            "fatal: destination path 'flash-attention' already exists and is not an empty directory.\n",
            "/content/flash-attention\n"
          ]
        }
      ]
    },
    {
      "cell_type": "code",
      "source": [
        "!pip install . --no-build-isolation"
      ],
      "metadata": {
        "colab": {
          "base_uri": "https://localhost:8080/"
        },
        "id": "9SoRWPI8v8Wr",
        "outputId": "bf9b6ffc-50bb-46be-94ac-6d393c9095c1"
      },
      "execution_count": 11,
      "outputs": [
        {
          "output_type": "stream",
          "name": "stdout",
          "text": [
            "Processing /content/flash-attention\n",
            "  Preparing metadata (setup.py) ... \u001b[?25l\u001b[?25hdone\n",
            "Requirement already satisfied: torch in /usr/local/lib/python3.11/dist-packages (from flash_attn==2.7.4.post1) (2.6.0+cu124)\n",
            "Requirement already satisfied: einops in /usr/local/lib/python3.11/dist-packages (from flash_attn==2.7.4.post1) (0.8.1)\n",
            "Requirement already satisfied: filelock in /usr/local/lib/python3.11/dist-packages (from torch->flash_attn==2.7.4.post1) (3.18.0)\n",
            "Requirement already satisfied: typing-extensions>=4.10.0 in /usr/local/lib/python3.11/dist-packages (from torch->flash_attn==2.7.4.post1) (4.13.2)\n",
            "Requirement already satisfied: networkx in /usr/local/lib/python3.11/dist-packages (from torch->flash_attn==2.7.4.post1) (3.4.2)\n",
            "Requirement already satisfied: jinja2 in /usr/local/lib/python3.11/dist-packages (from torch->flash_attn==2.7.4.post1) (3.1.6)\n",
            "Requirement already satisfied: fsspec in /usr/local/lib/python3.11/dist-packages (from torch->flash_attn==2.7.4.post1) (2025.3.0)\n",
            "Requirement already satisfied: nvidia-cuda-nvrtc-cu12==12.4.127 in /usr/local/lib/python3.11/dist-packages (from torch->flash_attn==2.7.4.post1) (12.4.127)\n",
            "Requirement already satisfied: nvidia-cuda-runtime-cu12==12.4.127 in /usr/local/lib/python3.11/dist-packages (from torch->flash_attn==2.7.4.post1) (12.4.127)\n",
            "Requirement already satisfied: nvidia-cuda-cupti-cu12==12.4.127 in /usr/local/lib/python3.11/dist-packages (from torch->flash_attn==2.7.4.post1) (12.4.127)\n",
            "Requirement already satisfied: nvidia-cudnn-cu12==9.1.0.70 in /usr/local/lib/python3.11/dist-packages (from torch->flash_attn==2.7.4.post1) (9.1.0.70)\n",
            "Requirement already satisfied: nvidia-cublas-cu12==12.4.5.8 in /usr/local/lib/python3.11/dist-packages (from torch->flash_attn==2.7.4.post1) (12.4.5.8)\n",
            "Requirement already satisfied: nvidia-cufft-cu12==11.2.1.3 in /usr/local/lib/python3.11/dist-packages (from torch->flash_attn==2.7.4.post1) (11.2.1.3)\n",
            "Requirement already satisfied: nvidia-curand-cu12==10.3.5.147 in /usr/local/lib/python3.11/dist-packages (from torch->flash_attn==2.7.4.post1) (10.3.5.147)\n",
            "Requirement already satisfied: nvidia-cusolver-cu12==11.6.1.9 in /usr/local/lib/python3.11/dist-packages (from torch->flash_attn==2.7.4.post1) (11.6.1.9)\n",
            "Requirement already satisfied: nvidia-cusparse-cu12==12.3.1.170 in /usr/local/lib/python3.11/dist-packages (from torch->flash_attn==2.7.4.post1) (12.3.1.170)\n",
            "Requirement already satisfied: nvidia-cusparselt-cu12==0.6.2 in /usr/local/lib/python3.11/dist-packages (from torch->flash_attn==2.7.4.post1) (0.6.2)\n",
            "Requirement already satisfied: nvidia-nccl-cu12==2.21.5 in /usr/local/lib/python3.11/dist-packages (from torch->flash_attn==2.7.4.post1) (2.21.5)\n",
            "Requirement already satisfied: nvidia-nvtx-cu12==12.4.127 in /usr/local/lib/python3.11/dist-packages (from torch->flash_attn==2.7.4.post1) (12.4.127)\n",
            "Requirement already satisfied: nvidia-nvjitlink-cu12==12.4.127 in /usr/local/lib/python3.11/dist-packages (from torch->flash_attn==2.7.4.post1) (12.4.127)\n",
            "Requirement already satisfied: triton==3.2.0 in /usr/local/lib/python3.11/dist-packages (from torch->flash_attn==2.7.4.post1) (3.2.0)\n",
            "Requirement already satisfied: sympy==1.13.1 in /usr/local/lib/python3.11/dist-packages (from torch->flash_attn==2.7.4.post1) (1.13.1)\n",
            "Requirement already satisfied: mpmath<1.4,>=1.1.0 in /usr/local/lib/python3.11/dist-packages (from sympy==1.13.1->torch->flash_attn==2.7.4.post1) (1.3.0)\n",
            "Requirement already satisfied: MarkupSafe>=2.0 in /usr/local/lib/python3.11/dist-packages (from jinja2->torch->flash_attn==2.7.4.post1) (3.0.2)\n",
            "Building wheels for collected packages: flash_attn\n",
            "\u001b[33m  DEPRECATION: Building 'flash_attn' using the legacy setup.py bdist_wheel mechanism, which will be removed in a future version. pip 25.3 will enforce this behaviour change. A possible replacement is to use the standardized build interface by setting the `--use-pep517` option, (possibly combined with `--no-build-isolation`), or adding a `pyproject.toml` file to the source tree of 'flash_attn'. Discussion can be found at https://github.com/pypa/pip/issues/6334\u001b[0m\u001b[33m\n",
            "\u001b[0m  Building wheel for flash_attn (setup.py) ... \u001b[?25l\u001b[?25hdone\n",
            "  Created wheel for flash_attn: filename=flash_attn-2.7.4.post1-cp311-cp311-linux_x86_64.whl size=187831595 sha256=58853b28a5a926cae14402bfd8d4d93a45ebf8f9e79533f37ab09d0d77a99c05\n",
            "  Stored in directory: /root/.cache/pip/wheels/1d/53/c5/000e1a593bdcce30072c46e5cf710bb5b1e2fa0fded85ca9e4\n",
            "Successfully built flash_attn\n",
            "Installing collected packages: flash_attn\n",
            "Successfully installed flash_attn-2.7.4.post1\n"
          ]
        }
      ]
    },
    {
      "cell_type": "code",
      "source": [
        "import flash_attn\n",
        "print(\"FlashAttention 2.4 installed successfully!\")"
      ],
      "metadata": {
        "colab": {
          "base_uri": "https://localhost:8080/"
        },
        "id": "sfbf8rxQpIJk",
        "outputId": "0de99941-9eec-4a1e-84b4-11ce207b7ecd"
      },
      "execution_count": 12,
      "outputs": [
        {
          "output_type": "stream",
          "name": "stdout",
          "text": [
            "FlashAttention 2.4 installed successfully!\n"
          ]
        }
      ]
    },
    {
      "cell_type": "code",
      "source": [
        "!pip show flash-attn"
      ],
      "metadata": {
        "colab": {
          "base_uri": "https://localhost:8080/"
        },
        "id": "5gQMfIJaz7xL",
        "outputId": "4d01c07e-6413-4d38-a4b4-5976947dca53"
      },
      "execution_count": 13,
      "outputs": [
        {
          "output_type": "stream",
          "name": "stdout",
          "text": [
            "Name: flash_attn\n",
            "Version: 2.7.4.post1\n",
            "Summary: Flash Attention: Fast and Memory-Efficient Exact Attention\n",
            "Home-page: https://github.com/Dao-AILab/flash-attention\n",
            "Author: Tri Dao\n",
            "Author-email: tri@tridao.me\n",
            "License: \n",
            "Location: /usr/local/lib/python3.11/dist-packages\n",
            "Requires: einops, torch\n",
            "Required-by: \n"
          ]
        }
      ]
    },
    {
      "cell_type": "code",
      "source": [
        "!nvidia-smi"
      ],
      "metadata": {
        "colab": {
          "base_uri": "https://localhost:8080/"
        },
        "id": "2NsqgEVY9fXw",
        "outputId": "145d5c32-782b-4be6-decd-871b0fefbc5f"
      },
      "execution_count": 14,
      "outputs": [
        {
          "output_type": "stream",
          "name": "stdout",
          "text": [
            "Fri May  9 21:53:53 2025       \n",
            "+-----------------------------------------------------------------------------------------+\n",
            "| NVIDIA-SMI 550.54.15              Driver Version: 550.54.15      CUDA Version: 12.4     |\n",
            "|-----------------------------------------+------------------------+----------------------+\n",
            "| GPU  Name                 Persistence-M | Bus-Id          Disp.A | Volatile Uncorr. ECC |\n",
            "| Fan  Temp   Perf          Pwr:Usage/Cap |           Memory-Usage | GPU-Util  Compute M. |\n",
            "|                                         |                        |               MIG M. |\n",
            "|=========================================+========================+======================|\n",
            "|   0  NVIDIA A100-SXM4-40GB          Off |   00000000:00:04.0 Off |                    0 |\n",
            "| N/A   32C    P0             45W /  400W |       0MiB /  40960MiB |      0%      Default |\n",
            "|                                         |                        |             Disabled |\n",
            "+-----------------------------------------+------------------------+----------------------+\n",
            "                                                                                         \n",
            "+-----------------------------------------------------------------------------------------+\n",
            "| Processes:                                                                              |\n",
            "|  GPU   GI   CI        PID   Type   Process name                              GPU Memory |\n",
            "|        ID   ID                                                               Usage      |\n",
            "|=========================================================================================|\n",
            "|  No running processes found                                                             |\n",
            "+-----------------------------------------------------------------------------------------+\n"
          ]
        }
      ]
    },
    {
      "cell_type": "code",
      "source": [
        "!pip install transformers rouge rouge-score nltk datasets"
      ],
      "metadata": {
        "colab": {
          "base_uri": "https://localhost:8080/"
        },
        "id": "sZe9QSRQQAcq",
        "outputId": "d2db7c53-fb0e-4afc-ee34-5c4ed7733a8b"
      },
      "execution_count": 15,
      "outputs": [
        {
          "output_type": "stream",
          "name": "stdout",
          "text": [
            "Requirement already satisfied: transformers in /usr/local/lib/python3.11/dist-packages (4.51.3)\n",
            "Requirement already satisfied: rouge in /usr/local/lib/python3.11/dist-packages (1.0.1)\n",
            "Requirement already satisfied: rouge-score in /usr/local/lib/python3.11/dist-packages (0.1.2)\n",
            "Requirement already satisfied: nltk in /usr/local/lib/python3.11/dist-packages (3.9.1)\n",
            "Requirement already satisfied: datasets in /usr/local/lib/python3.11/dist-packages (3.6.0)\n",
            "Requirement already satisfied: filelock in /usr/local/lib/python3.11/dist-packages (from transformers) (3.18.0)\n",
            "Requirement already satisfied: huggingface-hub<1.0,>=0.30.0 in /usr/local/lib/python3.11/dist-packages (from transformers) (0.30.2)\n",
            "Requirement already satisfied: numpy>=1.17 in /usr/local/lib/python3.11/dist-packages (from transformers) (2.0.2)\n",
            "Requirement already satisfied: packaging>=20.0 in /usr/local/lib/python3.11/dist-packages (from transformers) (24.2)\n",
            "Requirement already satisfied: pyyaml>=5.1 in /usr/local/lib/python3.11/dist-packages (from transformers) (6.0.2)\n",
            "Requirement already satisfied: regex!=2019.12.17 in /usr/local/lib/python3.11/dist-packages (from transformers) (2024.11.6)\n",
            "Requirement already satisfied: requests in /usr/local/lib/python3.11/dist-packages (from transformers) (2.32.3)\n",
            "Requirement already satisfied: tokenizers<0.22,>=0.21 in /usr/local/lib/python3.11/dist-packages (from transformers) (0.21.1)\n",
            "Requirement already satisfied: safetensors>=0.4.3 in /usr/local/lib/python3.11/dist-packages (from transformers) (0.5.3)\n",
            "Requirement already satisfied: tqdm>=4.27 in /usr/local/lib/python3.11/dist-packages (from transformers) (4.67.1)\n",
            "Requirement already satisfied: fsspec>=2023.5.0 in /usr/local/lib/python3.11/dist-packages (from huggingface-hub<1.0,>=0.30.0->transformers) (2025.3.0)\n",
            "Requirement already satisfied: typing-extensions>=3.7.4.3 in /usr/local/lib/python3.11/dist-packages (from huggingface-hub<1.0,>=0.30.0->transformers) (4.13.2)\n",
            "Requirement already satisfied: six in /usr/local/lib/python3.11/dist-packages (from rouge) (1.17.0)\n",
            "Requirement already satisfied: absl-py in /usr/local/lib/python3.11/dist-packages (from rouge-score) (1.4.0)\n",
            "Requirement already satisfied: click in /usr/local/lib/python3.11/dist-packages (from nltk) (8.1.8)\n",
            "Requirement already satisfied: joblib in /usr/local/lib/python3.11/dist-packages (from nltk) (1.4.2)\n",
            "Requirement already satisfied: pyarrow>=15.0.0 in /usr/local/lib/python3.11/dist-packages (from datasets) (18.1.0)\n",
            "Requirement already satisfied: dill<0.3.9,>=0.3.0 in /usr/local/lib/python3.11/dist-packages (from datasets) (0.3.8)\n",
            "Requirement already satisfied: pandas in /usr/local/lib/python3.11/dist-packages (from datasets) (2.2.2)\n",
            "Requirement already satisfied: xxhash in /usr/local/lib/python3.11/dist-packages (from datasets) (3.5.0)\n",
            "Requirement already satisfied: multiprocess<0.70.17 in /usr/local/lib/python3.11/dist-packages (from datasets) (0.70.16)\n",
            "Requirement already satisfied: aiohttp!=4.0.0a0,!=4.0.0a1 in /usr/local/lib/python3.11/dist-packages (from fsspec[http]<=2025.3.0,>=2023.1.0->datasets) (3.11.15)\n",
            "Requirement already satisfied: aiohappyeyeballs>=2.3.0 in /usr/local/lib/python3.11/dist-packages (from aiohttp!=4.0.0a0,!=4.0.0a1->fsspec[http]<=2025.3.0,>=2023.1.0->datasets) (2.6.1)\n",
            "Requirement already satisfied: aiosignal>=1.1.2 in /usr/local/lib/python3.11/dist-packages (from aiohttp!=4.0.0a0,!=4.0.0a1->fsspec[http]<=2025.3.0,>=2023.1.0->datasets) (1.3.2)\n",
            "Requirement already satisfied: attrs>=17.3.0 in /usr/local/lib/python3.11/dist-packages (from aiohttp!=4.0.0a0,!=4.0.0a1->fsspec[http]<=2025.3.0,>=2023.1.0->datasets) (25.3.0)\n",
            "Requirement already satisfied: frozenlist>=1.1.1 in /usr/local/lib/python3.11/dist-packages (from aiohttp!=4.0.0a0,!=4.0.0a1->fsspec[http]<=2025.3.0,>=2023.1.0->datasets) (1.6.0)\n",
            "Requirement already satisfied: multidict<7.0,>=4.5 in /usr/local/lib/python3.11/dist-packages (from aiohttp!=4.0.0a0,!=4.0.0a1->fsspec[http]<=2025.3.0,>=2023.1.0->datasets) (6.4.3)\n",
            "Requirement already satisfied: propcache>=0.2.0 in /usr/local/lib/python3.11/dist-packages (from aiohttp!=4.0.0a0,!=4.0.0a1->fsspec[http]<=2025.3.0,>=2023.1.0->datasets) (0.3.1)\n",
            "Requirement already satisfied: yarl<2.0,>=1.17.0 in /usr/local/lib/python3.11/dist-packages (from aiohttp!=4.0.0a0,!=4.0.0a1->fsspec[http]<=2025.3.0,>=2023.1.0->datasets) (1.20.0)\n",
            "Requirement already satisfied: idna>=2.0 in /usr/local/lib/python3.11/dist-packages (from yarl<2.0,>=1.17.0->aiohttp!=4.0.0a0,!=4.0.0a1->fsspec[http]<=2025.3.0,>=2023.1.0->datasets) (3.10)\n",
            "Requirement already satisfied: charset-normalizer<4,>=2 in /usr/local/lib/python3.11/dist-packages (from requests->transformers) (3.4.1)\n",
            "Requirement already satisfied: urllib3<3,>=1.21.1 in /usr/local/lib/python3.11/dist-packages (from requests->transformers) (2.4.0)\n",
            "Requirement already satisfied: certifi>=2017.4.17 in /usr/local/lib/python3.11/dist-packages (from requests->transformers) (2025.4.26)\n",
            "Requirement already satisfied: python-dateutil>=2.8.2 in /usr/local/lib/python3.11/dist-packages (from pandas->datasets) (2.9.0.post0)\n",
            "Requirement already satisfied: pytz>=2020.1 in /usr/local/lib/python3.11/dist-packages (from pandas->datasets) (2025.2)\n",
            "Requirement already satisfied: tzdata>=2022.7 in /usr/local/lib/python3.11/dist-packages (from pandas->datasets) (2025.2)\n"
          ]
        }
      ]
    },
    {
      "cell_type": "code",
      "source": [
        "import torch\n",
        "from torch.amp import autocast\n",
        "import math\n",
        "import time\n",
        "from transformers import Trainer, TrainingArguments, GPT2LMHeadModel, GPT2TokenizerFast\n",
        "from transformers.models.gpt2.modeling_gpt2 import GPT2Attention, GPT2Config\n",
        "from flash_attn.flash_attn_interface import flash_attn_func\n",
        "from datasets import load_dataset\n",
        "from tabulate import tabulate\n",
        "from rouge_score import rouge_scorer\n",
        "from nltk.translate.bleu_score import sentence_bleu, SmoothingFunction\n",
        "import wandb\n",
        "import logging"
      ],
      "metadata": {
        "id": "ICxLBHdxNMEk"
      },
      "execution_count": 16,
      "outputs": []
    },
    {
      "cell_type": "markdown",
      "source": [
        "### Data Preprocessing and Tokenisation"
      ],
      "metadata": {
        "id": "p5uqyx72KiM-"
      }
    },
    {
      "cell_type": "code",
      "source": [
        "# Configuration\n",
        "seq_len = 256 # Maximum sequence length for both input and labels\n",
        "train_subset_size = 50  # Training size\n",
        "val_subset_size = 10  # Validation size\n",
        "\n",
        "device = torch.device(\"cuda\" if torch.cuda.is_available() else \"cpu\")"
      ],
      "metadata": {
        "id": "XgKEpiwtNePs"
      },
      "execution_count": 17,
      "outputs": []
    },
    {
      "cell_type": "code",
      "source": [
        "# Load CNN/DailyMail dataset\n",
        "dataset = load_dataset(\"cnn_dailymail\", \"3.0.0\")\n",
        "\n",
        "# Subset the dataset\n",
        "train_dataset = dataset[\"train\"].shuffle(seed=42).select(range(train_subset_size))  # Take 1,000 examples\n",
        "val_dataset = dataset[\"validation\"].shuffle(seed=42).select(range(val_subset_size))  # Take 200 examples\n",
        "\n",
        "# Tokenizer\n",
        "tokenizer = GPT2TokenizerFast.from_pretrained(\"distilgpt2\")\n",
        "tokenizer.pad_token = tokenizer.eos_token  # Set padding token to be EOS token\n",
        "logging.basicConfig(level=logging.ERROR)\n",
        "\n",
        "# Preprocess dataset\n",
        "def preprocess_function(example):\n",
        "    input_text = example[\"article\"]\n",
        "    target_text = example[\"highlights\"]\n",
        "\n",
        "    # Tokenize the input text with the updated sequence length\n",
        "    model_inputs = tokenizer(\n",
        "        input_text, max_length=seq_len, truncation=True, padding=\"max_length\"\n",
        "    )\n",
        "\n",
        "    # Tokenize the target text\n",
        "    labels = tokenizer(\n",
        "        target_text, max_length=seq_len, truncation=True, padding=\"max_length\"\n",
        "    )\n",
        "\n",
        "    # Mask padding tokens in labels to -100 so they are ignored by the loss function\n",
        "    labels[\"input_ids\"] = [\n",
        "        (label if label != tokenizer.pad_token_id else -100) for label in labels[\"input_ids\"]\n",
        "    ]\n",
        "\n",
        "    # Add labels to the model inputs\n",
        "    model_inputs[\"labels\"] = labels[\"input_ids\"]\n",
        "    return model_inputs\n",
        "\n",
        "# Apply preprocessing to the subsets\n",
        "tokenized_train_dataset = train_dataset.map(preprocess_function, batched=True)\n",
        "tokenized_val_dataset = val_dataset.map(preprocess_function, batched=True)\n",
        "\n",
        "# Verify dataset columns\n",
        "print(f\"Train Dataset Columns: {tokenized_train_dataset.column_names}\")\n",
        "print(f\"Validation Dataset Columns: {tokenized_val_dataset.column_names}\")"
      ],
      "metadata": {
        "colab": {
          "base_uri": "https://localhost:8080/",
          "height": 0,
          "referenced_widgets": [
            "a78b3ca6797049ab872b199969b71824",
            "0c88e6e91d894e81aeb3799b89e7f8c1",
            "2c77d33a078240de962b3b70dfe1cb4a",
            "dbffb7447eeb4c34a49d249a8e446a7d",
            "badb880e1a3b42f39d794e3d64b93d59",
            "48362a9453a44b19befd9b18bacc6137",
            "e34b3f2f0fc243b3b42d186928d821ed",
            "2a814f85f59e4d34b2de26deed5414f7",
            "089375b97456492e9b4d775a8448fff0",
            "74af3c07f8374a24bf11ce207d03656c",
            "9159c522fda04eacb675d786ba1a4da0"
          ]
        },
        "outputId": "1740d0e7-9ff4-48c7-c4b3-63a267dbbf61",
        "id": "vJX8ujuVJXsv"
      },
      "execution_count": 18,
      "outputs": [
        {
          "output_type": "stream",
          "name": "stderr",
          "text": [
            "/usr/local/lib/python3.11/dist-packages/huggingface_hub/utils/_auth.py:94: UserWarning: \n",
            "The secret `HF_TOKEN` does not exist in your Colab secrets.\n",
            "To authenticate with the Hugging Face Hub, create a token in your settings tab (https://huggingface.co/settings/tokens), set it as secret in your Google Colab and restart your session.\n",
            "You will be able to reuse this secret in all of your notebooks.\n",
            "Please note that authentication is recommended but still optional to access public models or datasets.\n",
            "  warnings.warn(\n"
          ]
        },
        {
          "output_type": "display_data",
          "data": {
            "text/plain": [
              "Map:   0%|          | 0/10 [00:00<?, ? examples/s]"
            ],
            "application/vnd.jupyter.widget-view+json": {
              "version_major": 2,
              "version_minor": 0,
              "model_id": "a78b3ca6797049ab872b199969b71824"
            }
          },
          "metadata": {}
        },
        {
          "output_type": "stream",
          "name": "stdout",
          "text": [
            "Train Dataset Columns: ['article', 'highlights', 'id', 'input_ids', 'attention_mask', 'labels']\n",
            "Validation Dataset Columns: ['article', 'highlights', 'id', 'input_ids', 'attention_mask', 'labels']\n"
          ]
        }
      ]
    },
    {
      "cell_type": "markdown",
      "source": [
        "### AliBi and Benchmarking Function Definations and Model Definations"
      ],
      "metadata": {
        "id": "_nkm5-tBKtvz"
      }
    },
    {
      "cell_type": "code",
      "source": [
        "# ALiBi Score Function\n",
        "def get_alibi_slopes(nheads, device):\n",
        "    def get_slopes_power_of_2(n):\n",
        "        start = 2.0 ** (-2.0 ** -(math.log2(n) - 3))\n",
        "        return [start * (2.0 ** (i / 2.0)) for i in range(n)]\n",
        "\n",
        "    if math.log2(nheads).is_integer():\n",
        "        slopes = get_slopes_power_of_2(nheads)\n",
        "    else:\n",
        "        closest_power_of_2 = 2 ** math.floor(math.log2(nheads))\n",
        "        slopes = get_slopes_power_of_2(closest_power_of_2)\n",
        "        slopes += [slopes[-1] * 2.0 ** ((i + 1) / 2.0) for i in range(nheads - closest_power_of_2)]\n",
        "    return torch.tensor(slopes, dtype=torch.float32, device=device)"
      ],
      "metadata": {
        "id": "78bMaNzvNpYZ"
      },
      "execution_count": 19,
      "outputs": []
    },
    {
      "cell_type": "code",
      "source": [
        "import time\n",
        "# Helper Functions\n",
        "def benchmark_model(model, tokenizer, texts):\n",
        "    \"\"\"Benchmark model for inference time and memory usage.\"\"\"\n",
        "    inputs = tokenizer(texts, return_tensors=\"pt\", max_length=seq_len, padding=True, truncation=True).to(device)\n",
        "    torch.cuda.reset_peak_memory_stats()\n",
        "    times = []\n",
        "\n",
        "    # Warmup\n",
        "    for _ in range(5):\n",
        "        with torch.no_grad(), autocast(device_type='cuda'):  # Use device_type='cuda'\n",
        "            _ = model(**inputs)\n",
        "\n",
        "    # Measure time\n",
        "    with torch.no_grad(), autocast(device_type='cuda'):  # Use device_type='cuda'\n",
        "        for _ in range(10):\n",
        "            start = time.time()\n",
        "            _ = model(**inputs)\n",
        "            end = time.time()\n",
        "            times.append(end - start)\n",
        "\n",
        "    avg_time = sum(times) / len(times)\n",
        "    max_mem = torch.cuda.max_memory_allocated() / (1024**2)\n",
        "    return avg_time * 1000, max_mem\n",
        "\n",
        "\n",
        "\n",
        "def generate_text(model, tokenizer, texts, max_new_tokens=100, num_beams=5):\n",
        "    \"\"\"Generate text using the model.\"\"\"\n",
        "    outputs = []\n",
        "    for text in texts:\n",
        "        inputs = tokenizer(\n",
        "            text, return_tensors=\"pt\", max_length=seq_len, truncation=True, padding=True\n",
        "        ).to(device)\n",
        "        attention_mask = inputs[\"attention_mask\"]\n",
        "\n",
        "        model.config.pad_token_id = tokenizer.eos_token_id\n",
        "\n",
        "        with torch.no_grad(), autocast(device_type='cuda'):  # Use device_type='cuda'\n",
        "            output_ids = model.generate(\n",
        "                inputs[\"input_ids\"],\n",
        "                attention_mask=attention_mask,\n",
        "                max_new_tokens=max_new_tokens,\n",
        "                num_beams=num_beams,\n",
        "                no_repeat_ngram_size=2,\n",
        "                early_stopping=True,\n",
        "            )\n",
        "        outputs.append(tokenizer.decode(output_ids[0], skip_special_tokens=True))\n",
        "    return outputs\n",
        "\n",
        "def compute_metrics(predicted, references):\n",
        "    \"\"\"Compute ROUGE and BLEU metrics.\"\"\"\n",
        "    rouge = rouge_scorer.RougeScorer([\"rouge1\", \"rouge2\", \"rougeL\"], use_stemmer=True)\n",
        "    rouge_scores = {\"rouge1\": 0, \"rouge2\": 0, \"rougeL\": 0}\n",
        "    bleu_score = 0\n",
        "\n",
        "    for pred, ref in zip(predicted, references):\n",
        "        rouge_res = rouge.score(pred, ref)\n",
        "        rouge_scores[\"rouge1\"] += rouge_res[\"rouge1\"].fmeasure\n",
        "        rouge_scores[\"rouge2\"] += rouge_res[\"rouge2\"].fmeasure\n",
        "        rouge_scores[\"rougeL\"] += rouge_res[\"rougeL\"].fmeasure\n",
        "\n",
        "        smoothing_fn = SmoothingFunction().method4\n",
        "        bleu_score += sentence_bleu([ref.split()], pred.split(), smoothing_function=smoothing_fn)\n",
        "\n",
        "    for key in rouge_scores:\n",
        "        rouge_scores[key] /= len(predicted)\n",
        "    bleu_score /= len(predicted)\n",
        "    return rouge_scores, bleu_score"
      ],
      "metadata": {
        "id": "8D7jiSIqOouw"
      },
      "execution_count": 77,
      "outputs": []
    },
    {
      "cell_type": "code",
      "source": [
        "class FlashGPT2Attention(GPT2Attention):\n",
        "    def forward(\n",
        "        self,\n",
        "        hidden_states,\n",
        "        layer_past=None,\n",
        "        attention_mask=None,\n",
        "        head_mask=None,\n",
        "        use_cache=False,\n",
        "        output_attentions=False,\n",
        "    ):\n",
        "        bsz, slen, hidden_size = hidden_states.size()\n",
        "        assert hidden_size == self.embed_dim\n",
        "\n",
        "        # Project hidden states to query, key, and value\n",
        "        qkv_proj = self.c_attn(hidden_states)\n",
        "        query, key, value = qkv_proj.split(self.embed_dim, dim=2)\n",
        "\n",
        "        # Ensure tensors are in fp16\n",
        "        query = query.view(bsz, slen, self.num_heads, self.head_dim).to(torch.float16)\n",
        "        key = key.view(bsz, slen, self.num_heads, self.head_dim).to(torch.float16)\n",
        "        value = value.view(bsz, slen, self.num_heads, self.head_dim).to(torch.float16)\n",
        "\n",
        "        if layer_past is not None:\n",
        "            past_key, past_value = layer_past\n",
        "            key = torch.cat((past_key, key), dim=1)\n",
        "            value = torch.cat((past_value, value), dim=1)\n",
        "        present = (key, value) if use_cache else None\n",
        "\n",
        "        scale = 1.0 / math.sqrt(self.head_dim)\n",
        "\n",
        "        # Call FlashAttention\n",
        "        attn_output = flash_attn_func(\n",
        "            query,\n",
        "            key,\n",
        "            value,\n",
        "            causal=True,\n",
        "            softmax_scale=scale,\n",
        "        )\n",
        "\n",
        "        # Reshape output\n",
        "        attn_output = attn_output.reshape(bsz, slen, hidden_size)\n",
        "        attn_output = self.c_proj(attn_output)\n",
        "        attn_output = self.resid_dropout(attn_output)\n",
        "\n",
        "        return attn_output, present"
      ],
      "metadata": {
        "id": "n51OnrWN_f-Z"
      },
      "execution_count": 21,
      "outputs": []
    },
    {
      "cell_type": "code",
      "source": [
        "class FlashGPT2AttentionWithALiBi(GPT2Attention):\n",
        "    def __init__(self, config, is_cross_attention=False, layer_idx=None):\n",
        "        \"\"\"\n",
        "        Flash Attention with ALiBi (Attention with Linear Biases).\n",
        "\n",
        "        Args:\n",
        "            config: GPT2 configuration object.\n",
        "            is_cross_attention: Whether this layer is for cross-attention.\n",
        "            layer_idx: Layer index (if needed for custom configurations).\n",
        "        \"\"\"\n",
        "        super().__init__(config, is_cross_attention=is_cross_attention, layer_idx=layer_idx)\n",
        "\n",
        "    def forward(\n",
        "        self,\n",
        "        hidden_states,\n",
        "        layer_past=None,\n",
        "        attention_mask=None,\n",
        "        head_mask=None,\n",
        "        use_cache=False,\n",
        "        output_attentions=False,\n",
        "    ):\n",
        "        bsz, slen, hidden_size = hidden_states.size()\n",
        "        assert hidden_size == self.embed_dim, \"Hidden size must match embedding dimension.\"\n",
        "\n",
        "        # Project hidden states to query, key, and value\n",
        "        qkv_proj = self.c_attn(hidden_states)\n",
        "        query, key, value = qkv_proj.split(self.embed_dim, dim=2)\n",
        "\n",
        "        query = query.view(bsz, slen, self.num_heads, self.head_dim).transpose(1, 2)  # [bsz, num_heads, slen, head_dim]\n",
        "        key = key.view(bsz, slen, self.num_heads, self.head_dim).transpose(1, 2)      # [bsz, num_heads, slen, head_dim]\n",
        "        value = value.view(bsz, slen, self.num_heads, self.head_dim).transpose(1, 2)  # [bsz, num_heads, slen, head_dim]\n",
        "\n",
        "        if layer_past is not None:\n",
        "            past_key, past_value = layer_past\n",
        "            key = torch.cat((past_key, key), dim=2)  # Concatenate along sequence length\n",
        "            value = torch.cat((past_value, value), dim=2)\n",
        "        present = (key, value) if use_cache else None\n",
        "\n",
        "        scale = 1.0 / math.sqrt(self.head_dim)\n",
        "\n",
        "        # Generate ALiBi slopes and bias\n",
        "        alibi_slopes = get_alibi_slopes(self.num_heads, device=hidden_states.device).to(hidden_states.dtype)\n",
        "        alibi = alibi_slopes.view(1, self.num_heads, 1, 1)  # Shape: [1, num_heads, 1, 1]\n",
        "\n",
        "        # Generate position indices\n",
        "        position_ids = torch.arange(slen, device=hidden_states.device)  # Shape: [slen]\n",
        "        relative_positions = position_ids.unsqueeze(0) - position_ids.unsqueeze(-1)  # Shape: [slen, slen]\n",
        "        relative_positions = relative_positions.to(hidden_states.dtype)\n",
        "\n",
        "        # Generate ALiBi bias\n",
        "        alibi_bias = alibi * relative_positions.unsqueeze(0)  # Final shape: [1, num_heads, slen, slen]\n",
        "\n",
        "        # Compute attention scores\n",
        "        attn_scores = torch.einsum(\"bnqd,bnkd->bnqk\", query, key) * scale  # Correct einsum\n",
        "\n",
        "        # Add ALiBi bias\n",
        "        attn_scores = attn_scores + alibi_bias  # Shape: [bsz, num_heads, slen, slen]\n",
        "\n",
        "        if attention_mask is not None:\n",
        "            assert attention_mask.dim() == 4, \"Attention mask must be 4D: [bsz, 1, 1, slen]\"\n",
        "            attn_scores += attention_mask\n",
        "\n",
        "        # Compute attention probabilities\n",
        "        attn_probs = torch.softmax(attn_scores, dim=-1)\n",
        "        attn_probs = self.attn_dropout(attn_probs)  # Apply dropout\n",
        "\n",
        "        # Compute attention output\n",
        "        attn_output = torch.einsum(\"bnqk,bnvd->bnqd\", attn_probs, value)  # Shape: [bsz, num_heads, slen, head_dim]\n",
        "        attn_output = attn_output.transpose(1, 2).contiguous().view(bsz, slen, hidden_size)  # [bsz, slen, hidden_size]\n",
        "        attn_output = self.c_proj(attn_output)\n",
        "        attn_output = self.resid_dropout(attn_output)\n",
        "\n",
        "        return (attn_output, present) if use_cache else (attn_output, None)"
      ],
      "metadata": {
        "id": "wsGdZQqcOzdf"
      },
      "execution_count": 22,
      "outputs": []
    },
    {
      "cell_type": "code",
      "source": [
        "#addedClassForSparseAttention\n",
        "class FlashGPT2AttentionWithSparse(GPT2Attention):\n",
        "    def __init__(self, config, is_cross_attention=False, layer_idx=None, window_size=64):\n",
        "        \"\"\"\n",
        "        Flash Attention with Sparse (sliding window) attention pattern.\n",
        "        Args:\n",
        "            window_size: Size of sliding window for local attention.\n",
        "        \"\"\"\n",
        "        super().__init__(config, is_cross_attention=is_cross_attention, layer_idx=layer_idx)\n",
        "        self.window_size = window_size\n",
        "\n",
        "    def forward(\n",
        "        self,\n",
        "        hidden_states,\n",
        "        layer_past=None,\n",
        "        attention_mask=None,\n",
        "        head_mask=None,\n",
        "        use_cache=False,\n",
        "        output_attentions=False,\n",
        "    ):\n",
        "        bsz, slen, hidden_size = hidden_states.size()\n",
        "        assert hidden_size == self.embed_dim, \"Hidden size must match embedding dimension.\"\n",
        "\n",
        "        # Project QKV\n",
        "        qkv_proj = self.c_attn(hidden_states)\n",
        "        query, key, value = qkv_proj.split(self.embed_dim, dim=2)\n",
        "        query = query.view(bsz, slen, self.num_heads, self.head_dim).transpose(1, 2)\n",
        "        key = key.view(bsz, slen, self.num_heads, self.head_dim).transpose(1, 2)\n",
        "        value = value.view(bsz, slen, self.num_heads, self.head_dim).transpose(1, 2)\n",
        "\n",
        "        if layer_past is not None:\n",
        "            past_key, past_value = layer_past\n",
        "            key = torch.cat((past_key, key), dim=2)\n",
        "            value = torch.cat((past_value, value), dim=2)\n",
        "        present = (key, value) if use_cache else None\n",
        "\n",
        "        scale = 1.0 / math.sqrt(self.head_dim)\n",
        "\n",
        "        # Calculate full attention scores\n",
        "        attn_scores = torch.einsum(\"bnqd,bnkd->bnqk\", query, key) * scale  # [bsz, n_head, slen, slen]\n",
        "\n",
        "        # Create sliding window mask\n",
        "        device = hidden_states.device\n",
        "        idxs = torch.arange(slen, device=device)\n",
        "        distance = idxs.unsqueeze(1) - idxs.unsqueeze(0)  # [slen, slen]\n",
        "        mask = (distance.abs() > self.window_size).to(hidden_states.dtype) * -1e4  # Mask outside window\n",
        "\n",
        "        # Broadcast to match shape [bsz, num_heads, slen, slen]\n",
        "        sparse_mask = mask.unsqueeze(0).unsqueeze(0)\n",
        "\n",
        "        # Apply sparse mask\n",
        "        attn_scores += sparse_mask\n",
        "\n",
        "        if attention_mask is not None:\n",
        "            attn_scores += attention_mask  # Also include causal mask\n",
        "\n",
        "        attn_probs = torch.softmax(attn_scores, dim=-1)\n",
        "        attn_probs = self.attn_dropout(attn_probs)\n",
        "\n",
        "        # Compute output\n",
        "        attn_output = torch.einsum(\"bnqk,bnvd->bnqd\", attn_probs, value)\n",
        "        attn_output = attn_output.transpose(1, 2).contiguous().view(bsz, slen, hidden_size)\n",
        "        attn_output = self.c_proj(attn_output)\n",
        "        attn_output = self.resid_dropout(attn_output)\n",
        "\n",
        "        return (attn_output, present) if use_cache else (attn_output, None)"
      ],
      "metadata": {
        "id": "dOIR6ecz-Muf"
      },
      "execution_count": 23,
      "outputs": []
    },
    {
      "cell_type": "markdown",
      "source": [
        "### Loading model and benchmarking"
      ],
      "metadata": {
        "id": "-yq3DVqMQgo9"
      }
    },
    {
      "cell_type": "code",
      "source": [
        "# Load Models\n",
        "\n",
        "# Load the standard model with default GPT-2 attention\n",
        "model_standard = GPT2LMHeadModel.from_pretrained(\"distilgpt2\").to(device).eval()\n",
        "\n",
        "# Load the FlashAttention-enabled model\n",
        "model_flash = GPT2LMHeadModel.from_pretrained(\"distilgpt2\").to(device).eval()\n",
        "for block in model_flash.transformer.h:\n",
        "    block.attn = FlashGPT2Attention(\n",
        "        config=model_flash.config,\n",
        "        is_cross_attention=block.attn.is_cross_attention,\n",
        "        layer_idx=block.attn.layer_idx\n",
        "    ).to(device)\n",
        "\n",
        "# Load the FlashAttention + ALiBi-enabled model\n",
        "model_flash_with_alibi = GPT2LMHeadModel.from_pretrained(\"distilgpt2\").to(device).eval()\n",
        "for block in model_flash_with_alibi.transformer.h:\n",
        "    block.attn = FlashGPT2AttentionWithALiBi(\n",
        "        config=model_flash_with_alibi.config,\n",
        "        is_cross_attention=block.attn.is_cross_attention,\n",
        "        layer_idx=block.attn.layer_idx\n",
        "    ).to(device)"
      ],
      "metadata": {
        "id": "yc3fPlRsO5f7"
      },
      "execution_count": 58,
      "outputs": []
    },
    {
      "cell_type": "code",
      "source": [
        "# addedCodeForLoadingModelWithSparseAttention\n",
        "# Load the FlashAttention + SparseAttention\n",
        "model_flash_with_sparse = GPT2LMHeadModel.from_pretrained(\"distilgpt2\").to(device).eval()\n",
        "for block in model_flash_with_sparse.transformer.h:\n",
        "    block.attn = FlashGPT2AttentionWithSparse(\n",
        "        config=model_flash_with_sparse.config,\n",
        "        is_cross_attention=block.attn.is_cross_attention,\n",
        "        layer_idx=block.attn.layer_idx\n",
        "    ).to(device)"
      ],
      "metadata": {
        "id": "OMMsI0cW-zn0"
      },
      "execution_count": 59,
      "outputs": []
    },
    {
      "cell_type": "code",
      "source": [
        "# Input texts and reference summaries from validation dataset\n",
        "input_texts = [example[\"article\"] for example in dataset[\"validation\"].select(range(100))]\n",
        "reference_summaries = [example[\"highlights\"] for example in dataset[\"validation\"].select(range(100))]"
      ],
      "metadata": {
        "id": "3MpfCT6OA5iv"
      },
      "execution_count": 68,
      "outputs": []
    },
    {
      "cell_type": "markdown",
      "source": [
        "### Training time comparisons"
      ],
      "metadata": {
        "id": "DoIFqCm0LDxA"
      }
    },
    {
      "cell_type": "code",
      "source": [
        "# Load the standard model with default GPT-2 attention\n",
        "model_standard = GPT2LMHeadModel.from_pretrained(\"distilgpt2\").to(device).eval()\n",
        "\n",
        "#gpt written callable functions\n",
        "def modify_flash_attn(model):\n",
        "    for block in model.transformer.h:\n",
        "        block.attn = FlashGPT2Attention(\n",
        "            config=model.config,\n",
        "            is_cross_attention=block.attn.is_cross_attention,\n",
        "            layer_idx=block.attn.layer_idx\n",
        "        )\n",
        "    return model\n",
        "\n",
        "def modify_flash_alibi(model):\n",
        "    for block in model.transformer.h:\n",
        "        block.attn = FlashGPT2AttentionWithALiBi(\n",
        "            config=model.config,\n",
        "            is_cross_attention=block.attn.is_cross_attention,\n",
        "            layer_idx=block.attn.layer_idx\n",
        "        )\n",
        "    return model\n",
        "\n",
        "\n",
        "def modify_flash_sparse(model):\n",
        "    for block in model.transformer.h:\n",
        "        block.attn = FlashGPT2AttentionWithSparse(\n",
        "            config=model.config,\n",
        "            is_cross_attention=block.attn.is_cross_attention,\n",
        "            layer_idx=block.attn.layer_idx\n",
        "        )\n",
        "    return model"
      ],
      "metadata": {
        "id": "CMFkCEhdSGka"
      },
      "execution_count": 31,
      "outputs": []
    },
    {
      "cell_type": "code",
      "source": [
        "# Define model constructors (not instances!)\n",
        "model_factories = {\n",
        "    \"standard\": lambda: GPT2LMHeadModel.from_pretrained(\"distilgpt2\").eval(),\n",
        "    \"flash\": lambda: modify_flash_attn(GPT2LMHeadModel.from_pretrained(\"distilgpt2\").eval()),\n",
        "    \"flash_alibi\": lambda: modify_flash_alibi(GPT2LMHeadModel.from_pretrained(\"distilgpt2\").eval()),\n",
        "    \"flash_sparse\": lambda: modify_flash_sparse(GPT2LMHeadModel.from_pretrained(\"distilgpt2\").eval())\n",
        "}"
      ],
      "metadata": {
        "id": "9i_bQM7D_HNA"
      },
      "execution_count": 32,
      "outputs": []
    },
    {
      "cell_type": "code",
      "source": [
        "import matplotlib.pyplot as plt\n",
        "import pandas as pd\n",
        "import torch\n",
        "import time\n",
        "from transformers import TrainingArguments, Trainer\n",
        "def benchmark_models(batch_sizes, model_factories, tokenizer, train_dataset, val_dataset, device):\n",
        "    all_results = []\n",
        "\n",
        "    for model_name, model_fn in model_factories.items():\n",
        "        model_results = []\n",
        "\n",
        "        for batch_size in batch_sizes:\n",
        "            print(f\"\\n=== Benchmarking {model_name} | Batch size: {batch_size} ===\")\n",
        "\n",
        "            # Load and move model to device\n",
        "            model = model_fn().to(device)\n",
        "            torch.cuda.reset_peak_memory_stats(device)\n",
        "\n",
        "            training_args = TrainingArguments(\n",
        "                output_dir=f\"./{model_name}_summarization\",\n",
        "                overwrite_output_dir=True,\n",
        "                num_train_epochs=5,\n",
        "                per_device_train_batch_size=batch_size,\n",
        "                per_device_eval_batch_size=batch_size,\n",
        "                learning_rate=5e-5,\n",
        "                warmup_steps=500,\n",
        "                weight_decay=0.01,\n",
        "                eval_strategy=\"epoch\",\n",
        "                logging_dir=\"./logs\",\n",
        "                save_total_limit=2,\n",
        "                logging_strategy=\"no\",\n",
        "                save_strategy=\"no\",\n",
        "                gradient_accumulation_steps=4,\n",
        "                fp16=True,\n",
        "                disable_tqdm=True,\n",
        "            )\n",
        "\n",
        "            trainer = Trainer(\n",
        "                model=model,\n",
        "                args=training_args,\n",
        "                train_dataset=train_dataset,\n",
        "                eval_dataset=val_dataset,\n",
        "                tokenizer=tokenizer,\n",
        "            )\n",
        "\n",
        "            start_time = time.perf_counter()\n",
        "            trainer.train()\n",
        "            train_time_ms = (time.perf_counter() - start_time) * 1000\n",
        "\n",
        "            model_results.append({\n",
        "                \"batch_size\": batch_size,\n",
        "                f\"{model_name}_train_time_ms\": round(train_time_ms, 2),\n",
        "                f\"{model_name}_max_gpu_mem_MB\": round(torch.cuda.max_memory_allocated(device) / (1024 ** 2), 2),\n",
        "            })\n",
        "\n",
        "            # Clean up\n",
        "            del model\n",
        "            torch.cuda.empty_cache()\n",
        "\n",
        "        df = pd.DataFrame(model_results)\n",
        "        all_results.append(df.set_index(\"batch_size\"))\n",
        "\n",
        "    final_df = pd.concat(all_results, axis=1)\n",
        "    print(\"\\n=== Final Benchmarking Results ===\")\n",
        "    print(final_df)\n",
        "\n",
        "    # Plotting\n",
        "    plt.figure(figsize=(10, 6))\n",
        "    for model_name in model_factories.keys():\n",
        "        plt.plot(\n",
        "            final_df.index,\n",
        "            final_df[f\"{model_name}_train_time_ms\"],\n",
        "            marker='o',\n",
        "            label=f\"{model_name.capitalize()} Attention\"\n",
        "        )\n",
        "\n",
        "    plt.title(\"Training Time vs Batch Size\")\n",
        "    plt.xlabel(\"Batch Size\")\n",
        "    plt.ylabel(\"Training Time (ms)\")\n",
        "    plt.grid(True)\n",
        "    plt.legend()\n",
        "    plt.tight_layout()\n",
        "    plt.show()\n",
        "\n",
        "    return final_df\n"
      ],
      "metadata": {
        "id": "tg6wcnHWrRkE"
      },
      "execution_count": 33,
      "outputs": []
    },
    {
      "cell_type": "code",
      "source": [
        "device = torch.device(\"cuda\" if torch.cuda.is_available() else \"cpu\")\n",
        "\n",
        "benchmark_models(\n",
        "    batch_sizes=[16, 32, 64, 128],\n",
        "    model_factories=model_factories,\n",
        "    tokenizer=tokenizer,\n",
        "    train_dataset=tokenized_train_dataset,\n",
        "    val_dataset=tokenized_val_dataset,\n",
        "    device=device\n",
        ")\n"
      ],
      "metadata": {
        "colab": {
          "base_uri": "https://localhost:8080/",
          "height": 1000
        },
        "id": "WPHgElLk9n83",
        "outputId": "6d50c1b1-4125-4e0a-d477-a1015149dde2"
      },
      "execution_count": 40,
      "outputs": [
        {
          "output_type": "stream",
          "name": "stdout",
          "text": [
            "\n",
            "=== Benchmarking standard | Batch size: 16 ===\n"
          ]
        },
        {
          "output_type": "stream",
          "name": "stderr",
          "text": [
            "<ipython-input-33-e670a9321fab>:38: FutureWarning: `tokenizer` is deprecated and will be removed in version 5.0.0 for `Trainer.__init__`. Use `processing_class` instead.\n",
            "  trainer = Trainer(\n"
          ]
        },
        {
          "output_type": "stream",
          "name": "stdout",
          "text": [
            "{'eval_loss': 12.36317253112793, 'eval_runtime': 0.0199, 'eval_samples_per_second': 502.288, 'eval_steps_per_second': 50.229, 'epoch': 1.0}\n",
            "{'eval_loss': 12.36317253112793, 'eval_runtime': 0.0209, 'eval_samples_per_second': 479.557, 'eval_steps_per_second': 47.956, 'epoch': 2.0}\n",
            "{'eval_loss': 12.36317253112793, 'eval_runtime': 0.0205, 'eval_samples_per_second': 488.898, 'eval_steps_per_second': 48.89, 'epoch': 3.0}\n",
            "{'eval_loss': 12.36317253112793, 'eval_runtime': 0.0205, 'eval_samples_per_second': 486.765, 'eval_steps_per_second': 48.676, 'epoch': 4.0}\n",
            "{'eval_loss': 12.36317253112793, 'eval_runtime': 0.0207, 'eval_samples_per_second': 482.792, 'eval_steps_per_second': 48.279, 'epoch': 5.0}\n",
            "{'train_runtime': 1.1342, 'train_samples_per_second': 220.417, 'train_steps_per_second': 4.408, 'train_loss': 12.360579681396484, 'epoch': 5.0}\n",
            "\n",
            "=== Benchmarking standard | Batch size: 32 ===\n"
          ]
        },
        {
          "output_type": "stream",
          "name": "stderr",
          "text": [
            "<ipython-input-33-e670a9321fab>:38: FutureWarning: `tokenizer` is deprecated and will be removed in version 5.0.0 for `Trainer.__init__`. Use `processing_class` instead.\n",
            "  trainer = Trainer(\n"
          ]
        },
        {
          "output_type": "stream",
          "name": "stdout",
          "text": [
            "{'eval_loss': 12.36317253112793, 'eval_runtime': 0.0204, 'eval_samples_per_second': 490.476, 'eval_steps_per_second': 49.048, 'epoch': 1.0}\n",
            "{'eval_loss': 12.36317253112793, 'eval_runtime': 0.02, 'eval_samples_per_second': 501.064, 'eval_steps_per_second': 50.106, 'epoch': 2.0}\n",
            "{'eval_loss': 12.36317253112793, 'eval_runtime': 0.0202, 'eval_samples_per_second': 495.254, 'eval_steps_per_second': 49.525, 'epoch': 3.0}\n",
            "{'eval_loss': 12.36317253112793, 'eval_runtime': 0.0205, 'eval_samples_per_second': 487.642, 'eval_steps_per_second': 48.764, 'epoch': 4.0}\n",
            "{'eval_loss': 12.36317253112793, 'eval_runtime': 0.02, 'eval_samples_per_second': 500.687, 'eval_steps_per_second': 50.069, 'epoch': 5.0}\n",
            "{'train_runtime': 0.9816, 'train_samples_per_second': 254.681, 'train_steps_per_second': 5.094, 'train_loss': 12.345587158203125, 'epoch': 5.0}\n",
            "\n",
            "=== Benchmarking standard | Batch size: 64 ===\n"
          ]
        },
        {
          "output_type": "stream",
          "name": "stderr",
          "text": [
            "<ipython-input-33-e670a9321fab>:38: FutureWarning: `tokenizer` is deprecated and will be removed in version 5.0.0 for `Trainer.__init__`. Use `processing_class` instead.\n",
            "  trainer = Trainer(\n"
          ]
        },
        {
          "output_type": "stream",
          "name": "stdout",
          "text": [
            "{'eval_loss': 12.36317253112793, 'eval_runtime': 0.02, 'eval_samples_per_second': 499.013, 'eval_steps_per_second': 49.901, 'epoch': 1.0}\n",
            "{'eval_loss': 12.36317253112793, 'eval_runtime': 0.0202, 'eval_samples_per_second': 494.536, 'eval_steps_per_second': 49.454, 'epoch': 2.0}\n",
            "{'eval_loss': 12.36317253112793, 'eval_runtime': 0.0201, 'eval_samples_per_second': 497.923, 'eval_steps_per_second': 49.792, 'epoch': 3.0}\n",
            "{'eval_loss': 12.36317253112793, 'eval_runtime': 0.02, 'eval_samples_per_second': 499.393, 'eval_steps_per_second': 49.939, 'epoch': 4.0}\n",
            "{'eval_loss': 12.36317253112793, 'eval_runtime': 0.0204, 'eval_samples_per_second': 491.188, 'eval_steps_per_second': 49.119, 'epoch': 5.0}\n",
            "{'train_runtime': 0.9469, 'train_samples_per_second': 264.019, 'train_steps_per_second': 5.28, 'train_loss': 12.353727722167969, 'epoch': 5.0}\n",
            "\n",
            "=== Benchmarking standard | Batch size: 128 ===\n"
          ]
        },
        {
          "output_type": "stream",
          "name": "stderr",
          "text": [
            "<ipython-input-33-e670a9321fab>:38: FutureWarning: `tokenizer` is deprecated and will be removed in version 5.0.0 for `Trainer.__init__`. Use `processing_class` instead.\n",
            "  trainer = Trainer(\n"
          ]
        },
        {
          "output_type": "stream",
          "name": "stdout",
          "text": [
            "{'eval_loss': 12.36317253112793, 'eval_runtime': 0.0213, 'eval_samples_per_second': 468.721, 'eval_steps_per_second': 46.872, 'epoch': 1.0}\n",
            "{'eval_loss': 12.36317253112793, 'eval_runtime': 0.0213, 'eval_samples_per_second': 469.803, 'eval_steps_per_second': 46.98, 'epoch': 2.0}\n",
            "{'eval_loss': 12.36317253112793, 'eval_runtime': 0.0203, 'eval_samples_per_second': 491.874, 'eval_steps_per_second': 49.187, 'epoch': 3.0}\n",
            "{'eval_loss': 12.36317253112793, 'eval_runtime': 0.0203, 'eval_samples_per_second': 492.387, 'eval_steps_per_second': 49.239, 'epoch': 4.0}\n",
            "{'eval_loss': 12.36317253112793, 'eval_runtime': 0.0204, 'eval_samples_per_second': 491.136, 'eval_steps_per_second': 49.114, 'epoch': 5.0}\n",
            "{'train_runtime': 0.9496, 'train_samples_per_second': 263.278, 'train_steps_per_second': 5.266, 'train_loss': 12.353727722167969, 'epoch': 5.0}\n",
            "\n",
            "=== Benchmarking flash | Batch size: 16 ===\n"
          ]
        },
        {
          "output_type": "stream",
          "name": "stderr",
          "text": [
            "<ipython-input-33-e670a9321fab>:38: FutureWarning: `tokenizer` is deprecated and will be removed in version 5.0.0 for `Trainer.__init__`. Use `processing_class` instead.\n",
            "  trainer = Trainer(\n"
          ]
        },
        {
          "output_type": "stream",
          "name": "stdout",
          "text": [
            "{'eval_loss': 10.820783615112305, 'eval_runtime': 0.0201, 'eval_samples_per_second': 498.006, 'eval_steps_per_second': 49.801, 'epoch': 1.0}\n",
            "{'eval_loss': 10.820783615112305, 'eval_runtime': 0.0207, 'eval_samples_per_second': 484.023, 'eval_steps_per_second': 48.402, 'epoch': 2.0}\n",
            "{'eval_loss': 10.820783615112305, 'eval_runtime': 0.0207, 'eval_samples_per_second': 483.521, 'eval_steps_per_second': 48.352, 'epoch': 3.0}\n",
            "{'eval_loss': 10.820783615112305, 'eval_runtime': 0.0214, 'eval_samples_per_second': 466.625, 'eval_steps_per_second': 46.662, 'epoch': 4.0}\n",
            "{'eval_loss': 10.820783615112305, 'eval_runtime': 0.0206, 'eval_samples_per_second': 486.065, 'eval_steps_per_second': 48.607, 'epoch': 5.0}\n",
            "{'train_runtime': 1.0991, 'train_samples_per_second': 227.469, 'train_steps_per_second': 4.549, 'train_loss': 10.555107116699219, 'epoch': 5.0}\n",
            "\n",
            "=== Benchmarking flash | Batch size: 32 ===\n"
          ]
        },
        {
          "output_type": "stream",
          "name": "stderr",
          "text": [
            "<ipython-input-33-e670a9321fab>:38: FutureWarning: `tokenizer` is deprecated and will be removed in version 5.0.0 for `Trainer.__init__`. Use `processing_class` instead.\n",
            "  trainer = Trainer(\n"
          ]
        },
        {
          "output_type": "stream",
          "name": "stdout",
          "text": [
            "{'eval_loss': 10.820783615112305, 'eval_runtime': 0.0201, 'eval_samples_per_second': 497.704, 'eval_steps_per_second': 49.77, 'epoch': 1.0}\n",
            "{'eval_loss': 10.820783615112305, 'eval_runtime': 0.0203, 'eval_samples_per_second': 492.636, 'eval_steps_per_second': 49.264, 'epoch': 2.0}\n",
            "{'eval_loss': 10.820783615112305, 'eval_runtime': 0.0203, 'eval_samples_per_second': 492.255, 'eval_steps_per_second': 49.225, 'epoch': 3.0}\n",
            "{'eval_loss': 10.820783615112305, 'eval_runtime': 0.0205, 'eval_samples_per_second': 486.872, 'eval_steps_per_second': 48.687, 'epoch': 4.0}\n",
            "{'eval_loss': 10.820783615112305, 'eval_runtime': 0.0205, 'eval_samples_per_second': 486.753, 'eval_steps_per_second': 48.675, 'epoch': 5.0}\n",
            "{'train_runtime': 0.9658, 'train_samples_per_second': 258.842, 'train_steps_per_second': 5.177, 'train_loss': 10.546859741210938, 'epoch': 5.0}\n",
            "\n",
            "=== Benchmarking flash | Batch size: 64 ===\n"
          ]
        },
        {
          "output_type": "stream",
          "name": "stderr",
          "text": [
            "<ipython-input-33-e670a9321fab>:38: FutureWarning: `tokenizer` is deprecated and will be removed in version 5.0.0 for `Trainer.__init__`. Use `processing_class` instead.\n",
            "  trainer = Trainer(\n"
          ]
        },
        {
          "output_type": "stream",
          "name": "stdout",
          "text": [
            "{'eval_loss': 10.820783615112305, 'eval_runtime': 0.0206, 'eval_samples_per_second': 485.497, 'eval_steps_per_second': 48.55, 'epoch': 1.0}\n",
            "{'eval_loss': 10.820783615112305, 'eval_runtime': 0.0203, 'eval_samples_per_second': 491.58, 'eval_steps_per_second': 49.158, 'epoch': 2.0}\n",
            "{'eval_loss': 10.820783615112305, 'eval_runtime': 0.0207, 'eval_samples_per_second': 483.755, 'eval_steps_per_second': 48.376, 'epoch': 3.0}\n",
            "{'eval_loss': 10.820783615112305, 'eval_runtime': 0.0205, 'eval_samples_per_second': 487.387, 'eval_steps_per_second': 48.739, 'epoch': 4.0}\n",
            "{'eval_loss': 10.820783615112305, 'eval_runtime': 0.0205, 'eval_samples_per_second': 487.591, 'eval_steps_per_second': 48.759, 'epoch': 5.0}\n",
            "{'train_runtime': 0.9246, 'train_samples_per_second': 270.374, 'train_steps_per_second': 5.407, 'train_loss': 10.54708480834961, 'epoch': 5.0}\n",
            "\n",
            "=== Benchmarking flash | Batch size: 128 ===\n"
          ]
        },
        {
          "output_type": "stream",
          "name": "stderr",
          "text": [
            "<ipython-input-33-e670a9321fab>:38: FutureWarning: `tokenizer` is deprecated and will be removed in version 5.0.0 for `Trainer.__init__`. Use `processing_class` instead.\n",
            "  trainer = Trainer(\n"
          ]
        },
        {
          "output_type": "stream",
          "name": "stdout",
          "text": [
            "{'eval_loss': 10.820783615112305, 'eval_runtime': 0.0203, 'eval_samples_per_second': 491.66, 'eval_steps_per_second': 49.166, 'epoch': 1.0}\n",
            "{'eval_loss': 10.820783615112305, 'eval_runtime': 0.0202, 'eval_samples_per_second': 494.67, 'eval_steps_per_second': 49.467, 'epoch': 2.0}\n",
            "{'eval_loss': 10.820783615112305, 'eval_runtime': 0.0204, 'eval_samples_per_second': 491.246, 'eval_steps_per_second': 49.125, 'epoch': 3.0}\n",
            "{'eval_loss': 10.820783615112305, 'eval_runtime': 0.0205, 'eval_samples_per_second': 487.761, 'eval_steps_per_second': 48.776, 'epoch': 4.0}\n",
            "{'eval_loss': 10.820783615112305, 'eval_runtime': 0.0206, 'eval_samples_per_second': 485.137, 'eval_steps_per_second': 48.514, 'epoch': 5.0}\n",
            "{'train_runtime': 0.9214, 'train_samples_per_second': 271.326, 'train_steps_per_second': 5.427, 'train_loss': 10.54708480834961, 'epoch': 5.0}\n",
            "\n",
            "=== Benchmarking flash_alibi | Batch size: 16 ===\n"
          ]
        },
        {
          "output_type": "stream",
          "name": "stderr",
          "text": [
            "<ipython-input-33-e670a9321fab>:38: FutureWarning: `tokenizer` is deprecated and will be removed in version 5.0.0 for `Trainer.__init__`. Use `processing_class` instead.\n",
            "  trainer = Trainer(\n"
          ]
        },
        {
          "output_type": "stream",
          "name": "stdout",
          "text": [
            "{'eval_loss': 11.298513412475586, 'eval_runtime': 0.0226, 'eval_samples_per_second': 442.283, 'eval_steps_per_second': 44.228, 'epoch': 1.0}\n",
            "{'eval_loss': 11.298513412475586, 'eval_runtime': 0.0225, 'eval_samples_per_second': 444.925, 'eval_steps_per_second': 44.492, 'epoch': 2.0}\n",
            "{'eval_loss': 11.298513412475586, 'eval_runtime': 0.0227, 'eval_samples_per_second': 439.89, 'eval_steps_per_second': 43.989, 'epoch': 3.0}\n",
            "{'eval_loss': 11.298513412475586, 'eval_runtime': 0.0227, 'eval_samples_per_second': 439.977, 'eval_steps_per_second': 43.998, 'epoch': 4.0}\n",
            "{'eval_loss': 11.298513412475586, 'eval_runtime': 0.0225, 'eval_samples_per_second': 444.364, 'eval_steps_per_second': 44.436, 'epoch': 5.0}\n",
            "{'train_runtime': 1.252, 'train_samples_per_second': 199.687, 'train_steps_per_second': 3.994, 'train_loss': 11.529714965820313, 'epoch': 5.0}\n",
            "\n",
            "=== Benchmarking flash_alibi | Batch size: 32 ===\n"
          ]
        },
        {
          "output_type": "stream",
          "name": "stderr",
          "text": [
            "<ipython-input-33-e670a9321fab>:38: FutureWarning: `tokenizer` is deprecated and will be removed in version 5.0.0 for `Trainer.__init__`. Use `processing_class` instead.\n",
            "  trainer = Trainer(\n"
          ]
        },
        {
          "output_type": "stream",
          "name": "stdout",
          "text": [
            "{'eval_loss': 11.298513412475586, 'eval_runtime': 0.0229, 'eval_samples_per_second': 436.497, 'eval_steps_per_second': 43.65, 'epoch': 1.0}\n",
            "{'eval_loss': 11.298513412475586, 'eval_runtime': 0.0234, 'eval_samples_per_second': 427.11, 'eval_steps_per_second': 42.711, 'epoch': 2.0}\n",
            "{'eval_loss': 11.298513412475586, 'eval_runtime': 0.0233, 'eval_samples_per_second': 429.247, 'eval_steps_per_second': 42.925, 'epoch': 3.0}\n",
            "{'eval_loss': 11.298513412475586, 'eval_runtime': 0.0235, 'eval_samples_per_second': 424.632, 'eval_steps_per_second': 42.463, 'epoch': 4.0}\n",
            "{'eval_loss': 11.298513412475586, 'eval_runtime': 0.0237, 'eval_samples_per_second': 421.754, 'eval_steps_per_second': 42.175, 'epoch': 5.0}\n",
            "{'train_runtime': 1.0863, 'train_samples_per_second': 230.145, 'train_steps_per_second': 4.603, 'train_loss': 11.518437957763672, 'epoch': 5.0}\n",
            "\n",
            "=== Benchmarking flash_alibi | Batch size: 64 ===\n"
          ]
        },
        {
          "output_type": "stream",
          "name": "stderr",
          "text": [
            "<ipython-input-33-e670a9321fab>:38: FutureWarning: `tokenizer` is deprecated and will be removed in version 5.0.0 for `Trainer.__init__`. Use `processing_class` instead.\n",
            "  trainer = Trainer(\n"
          ]
        },
        {
          "output_type": "stream",
          "name": "stdout",
          "text": [
            "{'eval_loss': 11.298513412475586, 'eval_runtime': 0.0227, 'eval_samples_per_second': 440.587, 'eval_steps_per_second': 44.059, 'epoch': 1.0}\n",
            "{'eval_loss': 11.298513412475586, 'eval_runtime': 0.0228, 'eval_samples_per_second': 439.392, 'eval_steps_per_second': 43.939, 'epoch': 2.0}\n",
            "{'eval_loss': 11.298513412475586, 'eval_runtime': 0.0229, 'eval_samples_per_second': 437.536, 'eval_steps_per_second': 43.754, 'epoch': 3.0}\n",
            "{'eval_loss': 11.298513412475586, 'eval_runtime': 0.0236, 'eval_samples_per_second': 422.941, 'eval_steps_per_second': 42.294, 'epoch': 4.0}\n",
            "{'eval_loss': 11.298513412475586, 'eval_runtime': 0.0238, 'eval_samples_per_second': 420.958, 'eval_steps_per_second': 42.096, 'epoch': 5.0}\n",
            "{'train_runtime': 1.0499, 'train_samples_per_second': 238.126, 'train_steps_per_second': 4.763, 'train_loss': 11.514996337890626, 'epoch': 5.0}\n",
            "\n",
            "=== Benchmarking flash_alibi | Batch size: 128 ===\n"
          ]
        },
        {
          "output_type": "stream",
          "name": "stderr",
          "text": [
            "<ipython-input-33-e670a9321fab>:38: FutureWarning: `tokenizer` is deprecated and will be removed in version 5.0.0 for `Trainer.__init__`. Use `processing_class` instead.\n",
            "  trainer = Trainer(\n"
          ]
        },
        {
          "output_type": "stream",
          "name": "stdout",
          "text": [
            "{'eval_loss': 11.298513412475586, 'eval_runtime': 0.0229, 'eval_samples_per_second': 436.807, 'eval_steps_per_second': 43.681, 'epoch': 1.0}\n",
            "{'eval_loss': 11.298513412475586, 'eval_runtime': 0.0239, 'eval_samples_per_second': 418.886, 'eval_steps_per_second': 41.889, 'epoch': 2.0}\n",
            "{'eval_loss': 11.298513412475586, 'eval_runtime': 0.023, 'eval_samples_per_second': 435.292, 'eval_steps_per_second': 43.529, 'epoch': 3.0}\n",
            "{'eval_loss': 11.298513412475586, 'eval_runtime': 0.0231, 'eval_samples_per_second': 433.739, 'eval_steps_per_second': 43.374, 'epoch': 4.0}\n",
            "{'eval_loss': 11.298513412475586, 'eval_runtime': 0.0229, 'eval_samples_per_second': 436.116, 'eval_steps_per_second': 43.612, 'epoch': 5.0}\n",
            "{'train_runtime': 1.0472, 'train_samples_per_second': 238.736, 'train_steps_per_second': 4.775, 'train_loss': 11.514996337890626, 'epoch': 5.0}\n",
            "\n",
            "=== Benchmarking flash_sparse | Batch size: 16 ===\n"
          ]
        },
        {
          "output_type": "stream",
          "name": "stderr",
          "text": [
            "<ipython-input-33-e670a9321fab>:38: FutureWarning: `tokenizer` is deprecated and will be removed in version 5.0.0 for `Trainer.__init__`. Use `processing_class` instead.\n",
            "  trainer = Trainer(\n"
          ]
        },
        {
          "output_type": "stream",
          "name": "stdout",
          "text": [
            "{'eval_loss': 11.29862117767334, 'eval_runtime': 0.0216, 'eval_samples_per_second': 463.055, 'eval_steps_per_second': 46.305, 'epoch': 1.0}\n",
            "{'eval_loss': 11.29862117767334, 'eval_runtime': 0.0217, 'eval_samples_per_second': 460.255, 'eval_steps_per_second': 46.026, 'epoch': 2.0}\n",
            "{'eval_loss': 11.29862117767334, 'eval_runtime': 0.0216, 'eval_samples_per_second': 461.968, 'eval_steps_per_second': 46.197, 'epoch': 3.0}\n",
            "{'eval_loss': 11.29862117767334, 'eval_runtime': 0.0218, 'eval_samples_per_second': 458.79, 'eval_steps_per_second': 45.879, 'epoch': 4.0}\n",
            "{'eval_loss': 11.29862117767334, 'eval_runtime': 0.0221, 'eval_samples_per_second': 452.621, 'eval_steps_per_second': 45.262, 'epoch': 5.0}\n",
            "{'train_runtime': 1.2176, 'train_samples_per_second': 205.32, 'train_steps_per_second': 4.106, 'train_loss': 11.391815948486329, 'epoch': 5.0}\n",
            "\n",
            "=== Benchmarking flash_sparse | Batch size: 32 ===\n"
          ]
        },
        {
          "output_type": "stream",
          "name": "stderr",
          "text": [
            "<ipython-input-33-e670a9321fab>:38: FutureWarning: `tokenizer` is deprecated and will be removed in version 5.0.0 for `Trainer.__init__`. Use `processing_class` instead.\n",
            "  trainer = Trainer(\n"
          ]
        },
        {
          "output_type": "stream",
          "name": "stdout",
          "text": [
            "{'eval_loss': 11.29862117767334, 'eval_runtime': 0.0217, 'eval_samples_per_second': 459.882, 'eval_steps_per_second': 45.988, 'epoch': 1.0}\n",
            "{'eval_loss': 11.29862117767334, 'eval_runtime': 0.0228, 'eval_samples_per_second': 439.502, 'eval_steps_per_second': 43.95, 'epoch': 2.0}\n",
            "{'eval_loss': 11.29862117767334, 'eval_runtime': 0.0223, 'eval_samples_per_second': 448.066, 'eval_steps_per_second': 44.807, 'epoch': 3.0}\n",
            "{'eval_loss': 11.29862117767334, 'eval_runtime': 0.0219, 'eval_samples_per_second': 457.045, 'eval_steps_per_second': 45.705, 'epoch': 4.0}\n",
            "{'eval_loss': 11.29862117767334, 'eval_runtime': 0.0226, 'eval_samples_per_second': 441.882, 'eval_steps_per_second': 44.188, 'epoch': 5.0}\n",
            "{'train_runtime': 1.0591, 'train_samples_per_second': 236.05, 'train_steps_per_second': 4.721, 'train_loss': 11.40121078491211, 'epoch': 5.0}\n",
            "\n",
            "=== Benchmarking flash_sparse | Batch size: 64 ===\n"
          ]
        },
        {
          "output_type": "stream",
          "name": "stderr",
          "text": [
            "<ipython-input-33-e670a9321fab>:38: FutureWarning: `tokenizer` is deprecated and will be removed in version 5.0.0 for `Trainer.__init__`. Use `processing_class` instead.\n",
            "  trainer = Trainer(\n"
          ]
        },
        {
          "output_type": "stream",
          "name": "stdout",
          "text": [
            "{'eval_loss': 11.29862117767334, 'eval_runtime': 0.0222, 'eval_samples_per_second': 450.265, 'eval_steps_per_second': 45.026, 'epoch': 1.0}\n",
            "{'eval_loss': 11.29862117767334, 'eval_runtime': 0.0223, 'eval_samples_per_second': 448.541, 'eval_steps_per_second': 44.854, 'epoch': 2.0}\n",
            "{'eval_loss': 11.29862117767334, 'eval_runtime': 0.0223, 'eval_samples_per_second': 448.157, 'eval_steps_per_second': 44.816, 'epoch': 3.0}\n",
            "{'eval_loss': 11.29862117767334, 'eval_runtime': 0.0225, 'eval_samples_per_second': 444.943, 'eval_steps_per_second': 44.494, 'epoch': 4.0}\n",
            "{'eval_loss': 11.29862117767334, 'eval_runtime': 0.0226, 'eval_samples_per_second': 443.433, 'eval_steps_per_second': 44.343, 'epoch': 5.0}\n",
            "{'train_runtime': 1.0378, 'train_samples_per_second': 240.896, 'train_steps_per_second': 4.818, 'train_loss': 11.382308959960938, 'epoch': 5.0}\n",
            "\n",
            "=== Benchmarking flash_sparse | Batch size: 128 ===\n"
          ]
        },
        {
          "output_type": "stream",
          "name": "stderr",
          "text": [
            "<ipython-input-33-e670a9321fab>:38: FutureWarning: `tokenizer` is deprecated and will be removed in version 5.0.0 for `Trainer.__init__`. Use `processing_class` instead.\n",
            "  trainer = Trainer(\n"
          ]
        },
        {
          "output_type": "stream",
          "name": "stdout",
          "text": [
            "{'eval_loss': 11.29862117767334, 'eval_runtime': 0.0228, 'eval_samples_per_second': 439.383, 'eval_steps_per_second': 43.938, 'epoch': 1.0}\n",
            "{'eval_loss': 11.29862117767334, 'eval_runtime': 0.0234, 'eval_samples_per_second': 427.741, 'eval_steps_per_second': 42.774, 'epoch': 2.0}\n",
            "{'eval_loss': 11.29862117767334, 'eval_runtime': 0.0226, 'eval_samples_per_second': 441.696, 'eval_steps_per_second': 44.17, 'epoch': 3.0}\n",
            "{'eval_loss': 11.29862117767334, 'eval_runtime': 0.0225, 'eval_samples_per_second': 444.42, 'eval_steps_per_second': 44.442, 'epoch': 4.0}\n",
            "{'eval_loss': 11.29862117767334, 'eval_runtime': 0.0226, 'eval_samples_per_second': 443.269, 'eval_steps_per_second': 44.327, 'epoch': 5.0}\n",
            "{'train_runtime': 1.0319, 'train_samples_per_second': 242.269, 'train_steps_per_second': 4.845, 'train_loss': 11.382308959960938, 'epoch': 5.0}\n",
            "\n",
            "=== Final Benchmarking Results ===\n",
            "            standard_train_time_ms  standard_max_gpu_mem_MB  \\\n",
            "batch_size                                                    \n",
            "16                         1508.43                  8576.56   \n",
            "32                         1353.53                 12218.90   \n",
            "64                         1319.98                 16617.31   \n",
            "128                        1331.39                 16618.44   \n",
            "\n",
            "            flash_train_time_ms  flash_max_gpu_mem_MB  \\\n",
            "batch_size                                              \n",
            "16                      1466.35               8539.44   \n",
            "32                      1334.77              12147.69   \n",
            "64                      1288.22              16579.43   \n",
            "128                     1284.07              16579.72   \n",
            "\n",
            "            flash_alibi_train_time_ms  flash_alibi_max_gpu_mem_MB  \\\n",
            "batch_size                                                          \n",
            "16                            1614.02                     8860.89   \n",
            "32                            1455.30                    12796.66   \n",
            "64                            1425.25                    17585.64   \n",
            "128                           1411.10                    17585.02   \n",
            "\n",
            "            flash_sparse_train_time_ms  flash_sparse_max_gpu_mem_MB  \n",
            "batch_size                                                           \n",
            "16                             1588.37                      8864.16  \n",
            "32                             1428.44                     12795.03  \n",
            "64                             1405.06                     17587.31  \n",
            "128                            1403.24                     17586.30  \n"
          ]
        },
        {
          "output_type": "display_data",
          "data": {
            "text/plain": [
              "<Figure size 1000x600 with 1 Axes>"
            ],
            "image/png": "[encoded data removed]"
          },
          "metadata": {}
        },
        {
          "output_type": "execute_result",
          "data": {
            "text/plain": [
              "            standard_train_time_ms  standard_max_gpu_mem_MB  \\\n",
              "batch_size                                                    \n",
              "16                         1508.43                  8576.56   \n",
              "32                         1353.53                 12218.90   \n",
              "64                         1319.98                 16617.31   \n",
              "128                        1331.39                 16618.44   \n",
              "\n",
              "            flash_train_time_ms  flash_max_gpu_mem_MB  \\\n",
              "batch_size                                              \n",
              "16                      1466.35               8539.44   \n",
              "32                      1334.77              12147.69   \n",
              "64                      1288.22              16579.43   \n",
              "128                     1284.07              16579.72   \n",
              "\n",
              "            flash_alibi_train_time_ms  flash_alibi_max_gpu_mem_MB  \\\n",
              "batch_size                                                          \n",
              "16                            1614.02                     8860.89   \n",
              "32                            1455.30                    12796.66   \n",
              "64                            1425.25                    17585.64   \n",
              "128                           1411.10                    17585.02   \n",
              "\n",
              "            flash_sparse_train_time_ms  flash_sparse_max_gpu_mem_MB  \n",
              "batch_size                                                           \n",
              "16                             1588.37                      8864.16  \n",
              "32                             1428.44                     12795.03  \n",
              "64                             1405.06                     17587.31  \n",
              "128                            1403.24                     17586.30  "
            ],
            "text/html": [
              "\n",
              "  <div id=\"df-84555047-68cf-4eff-8e65-b4d353fb0efa\" class=\"colab-df-container\">\n",
              "    <div>\n",
              "<style scoped>\n",
              "    .dataframe tbody tr th:only-of-type {\n",
              "        vertical-align: middle;\n",
              "    }\n",
              "\n",
              "    .dataframe tbody tr th {\n",
              "        vertical-align: top;\n",
              "    }\n",
              "\n",
              "    .dataframe thead th {\n",
              "        text-align: right;\n",
              "    }\n",
              "</style>\n",
              "<table border=\"1\" class=\"dataframe\">\n",
              "  <thead>\n",
              "    <tr style=\"text-align: right;\">\n",
              "      <th></th>\n",
              "      <th>standard_train_time_ms</th>\n",
              "      <th>standard_max_gpu_mem_MB</th>\n",
              "      <th>flash_train_time_ms</th>\n",
              "      <th>flash_max_gpu_mem_MB</th>\n",
              "      <th>flash_alibi_train_time_ms</th>\n",
              "      <th>flash_alibi_max_gpu_mem_MB</th>\n",
              "      <th>flash_sparse_train_time_ms</th>\n",
              "      <th>flash_sparse_max_gpu_mem_MB</th>\n",
              "    </tr>\n",
              "    <tr>\n",
              "      <th>batch_size</th>\n",
              "      <th></th>\n",
              "      <th></th>\n",
              "      <th></th>\n",
              "      <th></th>\n",
              "      <th></th>\n",
              "      <th></th>\n",
              "      <th></th>\n",
              "      <th></th>\n",
              "    </tr>\n",
              "  </thead>\n",
              "  <tbody>\n",
              "    <tr>\n",
              "      <th>16</th>\n",
              "      <td>1508.43</td>\n",
              "      <td>8576.56</td>\n",
              "      <td>1466.35</td>\n",
              "      <td>8539.44</td>\n",
              "      <td>1614.02</td>\n",
              "      <td>8860.89</td>\n",
              "      <td>1588.37</td>\n",
              "      <td>8864.16</td>\n",
              "    </tr>\n",
              "    <tr>\n",
              "      <th>32</th>\n",
              "      <td>1353.53</td>\n",
              "      <td>12218.90</td>\n",
              "      <td>1334.77</td>\n",
              "      <td>12147.69</td>\n",
              "      <td>1455.30</td>\n",
              "      <td>12796.66</td>\n",
              "      <td>1428.44</td>\n",
              "      <td>12795.03</td>\n",
              "    </tr>\n",
              "    <tr>\n",
              "      <th>64</th>\n",
              "      <td>1319.98</td>\n",
              "      <td>16617.31</td>\n",
              "      <td>1288.22</td>\n",
              "      <td>16579.43</td>\n",
              "      <td>1425.25</td>\n",
              "      <td>17585.64</td>\n",
              "      <td>1405.06</td>\n",
              "      <td>17587.31</td>\n",
              "    </tr>\n",
              "    <tr>\n",
              "      <th>128</th>\n",
              "      <td>1331.39</td>\n",
              "      <td>16618.44</td>\n",
              "      <td>1284.07</td>\n",
              "      <td>16579.72</td>\n",
              "      <td>1411.10</td>\n",
              "      <td>17585.02</td>\n",
              "      <td>1403.24</td>\n",
              "      <td>17586.30</td>\n",
              "    </tr>\n",
              "  </tbody>\n",
              "</table>\n",
              "</div>\n",
              "    <div class=\"colab-df-buttons\">\n",
              "\n",
              "  <div class=\"colab-df-container\">\n",
              "    <button class=\"colab-df-convert\" onclick=\"convertToInteractive('df-84555047-68cf-4eff-8e65-b4d353fb0efa')\"\n",
              "            title=\"Convert this dataframe to an interactive table.\"\n",
              "            style=\"display:none;\">\n",
              "\n",
              "  <svg xmlns=\"http://www.w3.org/2000/svg\" height=\"24px\" viewBox=\"0 -960 960 960\">\n",
              "    <path d=\"M120-120v-720h720v720H120Zm60-500h600v-160H180v160Zm220 220h160v-160H400v160Zm0 220h160v-160H400v160ZM180-400h160v-160H180v160Zm440 0h160v-160H620v160ZM180-180h160v-160H180v160Zm440 0h160v-160H620v160Z\"/>\n",
              "  </svg>\n",
              "    </button>\n",
              "\n",
              "  <style>\n",
              "    .colab-df-container {\n",
              "      display:flex;\n",
              "      gap: 12px;\n",
              "    }\n",
              "\n",
              "    .colab-df-convert {\n",
              "      background-color: #E8F0FE;\n",
              "      border: none;\n",
              "      border-radius: 50%;\n",
              "      cursor: pointer;\n",
              "      display: none;\n",
              "      fill: #1967D2;\n",
              "      height: 32px;\n",
              "      padding: 0 0 0 0;\n",
              "      width: 32px;\n",
              "    }\n",
              "\n",
              "    .colab-df-convert:hover {\n",
              "      background-color: #E2EBFA;\n",
              "      box-shadow: 0px 1px 2px rgba(60, 64, 67, 0.3), 0px 1px 3px 1px rgba(60, 64, 67, 0.15);\n",
              "      fill: #174EA6;\n",
              "    }\n",
              "\n",
              "    .colab-df-buttons div {\n",
              "      margin-bottom: 4px;\n",
              "    }\n",
              "\n",
              "    [theme=dark] .colab-df-convert {\n",
              "      background-color: #3B4455;\n",
              "      fill: #D2E3FC;\n",
              "    }\n",
              "\n",
              "    [theme=dark] .colab-df-convert:hover {\n",
              "      background-color: #434B5C;\n",
              "      box-shadow: 0px 1px 3px 1px rgba(0, 0, 0, 0.15);\n",
              "      filter: drop-shadow(0px 1px 2px rgba(0, 0, 0, 0.3));\n",
              "      fill: #FFFFFF;\n",
              "    }\n",
              "  </style>\n",
              "\n",
              "    <script>\n",
              "      const buttonEl =\n",
              "        document.querySelector('#df-84555047-68cf-4eff-8e65-b4d353fb0efa button.colab-df-convert');\n",
              "      buttonEl.style.display =\n",
              "        google.colab.kernel.accessAllowed ? 'block' : 'none';\n",
              "\n",
              "      async function convertToInteractive(key) {\n",
              "        const element = document.querySelector('#df-84555047-68cf-4eff-8e65-b4d353fb0efa');\n",
              "        const dataTable =\n",
              "          await google.colab.kernel.invokeFunction('convertToInteractive',\n",
              "                                                    [key], {});\n",
              "        if (!dataTable) return;\n",
              "\n",
              "        const docLinkHtml = 'Like what you see? Visit the ' +\n",
              "          '<a target=\"_blank\" href=https://colab.research.google.com/notebooks/data_table.ipynb>data table notebook</a>'\n",
              "          + ' to learn more about interactive tables.';\n",
              "        element.innerHTML = '';\n",
              "        dataTable['output_type'] = 'display_data';\n",
              "        await google.colab.output.renderOutput(dataTable, element);\n",
              "        const docLink = document.createElement('div');\n",
              "        docLink.innerHTML = docLinkHtml;\n",
              "        element.appendChild(docLink);\n",
              "      }\n",
              "    </script>\n",
              "  </div>\n",
              "\n",
              "\n",
              "    <div id=\"df-da52fea6-7533-44f9-bb3c-d07830fd576a\">\n",
              "      <button class=\"colab-df-quickchart\" onclick=\"quickchart('df-da52fea6-7533-44f9-bb3c-d07830fd576a')\"\n",
              "                title=\"Suggest charts\"\n",
              "                style=\"display:none;\">\n",
              "\n",
              "<svg xmlns=\"http://www.w3.org/2000/svg\" height=\"24px\"viewBox=\"0 0 24 24\"\n",
              "     width=\"24px\">\n",
              "    <g>\n",
              "        <path d=\"M19 3H5c-1.1 0-2 .9-2 2v14c0 1.1.9 2 2 2h14c1.1 0 2-.9 2-2V5c0-1.1-.9-2-2-2zM9 17H7v-7h2v7zm4 0h-2V7h2v10zm4 0h-2v-4h2v4z\"/>\n",
              "    </g>\n",
              "</svg>\n",
              "      </button>\n",
              "\n",
              "<style>\n",
              "  .colab-df-quickchart {\n",
              "      --bg-color: #E8F0FE;\n",
              "      --fill-color: #1967D2;\n",
              "      --hover-bg-color: #E2EBFA;\n",
              "      --hover-fill-color: #174EA6;\n",
              "      --disabled-fill-color: #AAA;\n",
              "      --disabled-bg-color: #DDD;\n",
              "  }\n",
              "\n",
              "  [theme=dark] .colab-df-quickchart {\n",
              "      --bg-color: #3B4455;\n",
              "      --fill-color: #D2E3FC;\n",
              "      --hover-bg-color: #434B5C;\n",
              "      --hover-fill-color: #FFFFFF;\n",
              "      --disabled-bg-color: #3B4455;\n",
              "      --disabled-fill-color: #666;\n",
              "  }\n",
              "\n",
              "  .colab-df-quickchart {\n",
              "    background-color: var(--bg-color);\n",
              "    border: none;\n",
              "    border-radius: 50%;\n",
              "    cursor: pointer;\n",
              "    display: none;\n",
              "    fill: var(--fill-color);\n",
              "    height: 32px;\n",
              "    padding: 0;\n",
              "    width: 32px;\n",
              "  }\n",
              "\n",
              "  .colab-df-quickchart:hover {\n",
              "    background-color: var(--hover-bg-color);\n",
              "    box-shadow: 0 1px 2px rgba(60, 64, 67, 0.3), 0 1px 3px 1px rgba(60, 64, 67, 0.15);\n",
              "    fill: var(--button-hover-fill-color);\n",
              "  }\n",
              "\n",
              "  .colab-df-quickchart-complete:disabled,\n",
              "  .colab-df-quickchart-complete:disabled:hover {\n",
              "    background-color: var(--disabled-bg-color);\n",
              "    fill: var(--disabled-fill-color);\n",
              "    box-shadow: none;\n",
              "  }\n",
              "\n",
              "  .colab-df-spinner {\n",
              "    border: 2px solid var(--fill-color);\n",
              "    border-color: transparent;\n",
              "    border-bottom-color: var(--fill-color);\n",
              "    animation:\n",
              "      spin 1s steps(1) infinite;\n",
              "  }\n",
              "\n",
              "  @keyframes spin {\n",
              "    0% {\n",
              "      border-color: transparent;\n",
              "      border-bottom-color: var(--fill-color);\n",
              "      border-left-color: var(--fill-color);\n",
              "    }\n",
              "    20% {\n",
              "      border-color: transparent;\n",
              "      border-left-color: var(--fill-color);\n",
              "      border-top-color: var(--fill-color);\n",
              "    }\n",
              "    30% {\n",
              "      border-color: transparent;\n",
              "      border-left-color: var(--fill-color);\n",
              "      border-top-color: var(--fill-color);\n",
              "      border-right-color: var(--fill-color);\n",
              "    }\n",
              "    40% {\n",
              "      border-color: transparent;\n",
              "      border-right-color: var(--fill-color);\n",
              "      border-top-color: var(--fill-color);\n",
              "    }\n",
              "    60% {\n",
              "      border-color: transparent;\n",
              "      border-right-color: var(--fill-color);\n",
              "    }\n",
              "    80% {\n",
              "      border-color: transparent;\n",
              "      border-right-color: var(--fill-color);\n",
              "      border-bottom-color: var(--fill-color);\n",
              "    }\n",
              "    90% {\n",
              "      border-color: transparent;\n",
              "      border-bottom-color: var(--fill-color);\n",
              "    }\n",
              "  }\n",
              "</style>\n",
              "\n",
              "      <script>\n",
              "        async function quickchart(key) {\n",
              "          const quickchartButtonEl =\n",
              "            document.querySelector('#' + key + ' button');\n",
              "          quickchartButtonEl.disabled = true;  // To prevent multiple clicks.\n",
              "          quickchartButtonEl.classList.add('colab-df-spinner');\n",
              "          try {\n",
              "            const charts = await google.colab.kernel.invokeFunction(\n",
              "                'suggestCharts', [key], {});\n",
              "          } catch (error) {\n",
              "            console.error('Error during call to suggestCharts:', error);\n",
              "          }\n",
              "          quickchartButtonEl.classList.remove('colab-df-spinner');\n",
              "          quickchartButtonEl.classList.add('colab-df-quickchart-complete');\n",
              "        }\n",
              "        (() => {\n",
              "          let quickchartButtonEl =\n",
              "            document.querySelector('#df-da52fea6-7533-44f9-bb3c-d07830fd576a button');\n",
              "          quickchartButtonEl.style.display =\n",
              "            google.colab.kernel.accessAllowed ? 'block' : 'none';\n",
              "        })();\n",
              "      </script>\n",
              "    </div>\n",
              "\n",
              "    </div>\n",
              "  </div>\n"
            ],
            "application/vnd.google.colaboratory.intrinsic+json": {
              "type": "dataframe",
              "summary": "{\n  \"name\": \")\",\n  \"rows\": 4,\n  \"fields\": [\n    {\n      \"column\": \"batch_size\",\n      \"properties\": {\n        \"dtype\": \"number\",\n        \"std\": 49,\n        \"min\": 16,\n        \"max\": 128,\n        \"num_unique_values\": 4,\n        \"samples\": [\n          32,\n          128,\n          16\n        ],\n        \"semantic_type\": \"\",\n        \"description\": \"\"\n      }\n    },\n    {\n      \"column\": \"standard_train_time_ms\",\n      \"properties\": {\n        \"dtype\": \"number\",\n        \"std\": 87.8429205551971,\n        \"min\": 1319.98,\n        \"max\": 1508.43,\n        \"num_unique_values\": 4,\n        \"samples\": [\n          1353.53,\n          1331.39,\n          1508.43\n        ],\n        \"semantic_type\": \"\",\n        \"description\": \"\"\n      }\n    },\n    {\n      \"column\": \"standard_max_gpu_mem_MB\",\n      \"properties\": {\n        \"dtype\": \"number\",\n        \"std\": 3886.8807029662835,\n        \"min\": 8576.56,\n        \"max\": 16618.44,\n        \"num_unique_values\": 4,\n        \"samples\": [\n          12218.9,\n          16618.44,\n          8576.56\n        ],\n        \"semantic_type\": \"\",\n        \"description\": \"\"\n      }\n    },\n    {\n      \"column\": \"flash_train_time_ms\",\n      \"properties\": {\n        \"dtype\": \"number\",\n        \"std\": 85.15877655884914,\n        \"min\": 1284.07,\n        \"max\": 1466.35,\n        \"num_unique_values\": 4,\n        \"samples\": [\n          1334.77,\n          1284.07,\n          1466.35\n        ],\n        \"semantic_type\": \"\",\n        \"description\": \"\"\n      }\n    },\n    {\n      \"column\": \"flash_max_gpu_mem_MB\",\n      \"properties\": {\n        \"dtype\": \"number\",\n        \"std\": 3890.053761128073,\n        \"min\": 8539.44,\n        \"max\": 16579.72,\n        \"num_unique_values\": 4,\n        \"samples\": [\n          12147.69,\n          16579.72,\n          8539.44\n        ],\n        \"semantic_type\": \"\",\n        \"description\": \"\"\n      }\n    },\n    {\n      \"column\": \"flash_alibi_train_time_ms\",\n      \"properties\": {\n        \"dtype\": \"number\",\n        \"std\": 93.56795333695543,\n        \"min\": 1411.1,\n        \"max\": 1614.02,\n        \"num_unique_values\": 4,\n        \"samples\": [\n          1455.3,\n          1411.1,\n          1614.02\n        ],\n        \"semantic_type\": \"\",\n        \"description\": \"\"\n      }\n    },\n    {\n      \"column\": \"flash_alibi_max_gpu_mem_MB\",\n      \"properties\": {\n        \"dtype\": \"number\",\n        \"std\": 4218.853651829882,\n        \"min\": 8860.89,\n        \"max\": 17585.64,\n        \"num_unique_values\": 4,\n        \"samples\": [\n          12796.66,\n          17585.02,\n          8860.89\n        ],\n        \"semantic_type\": \"\",\n        \"description\": \"\"\n      }\n    },\n    {\n      \"column\": \"flash_sparse_train_time_ms\",\n      \"properties\": {\n        \"dtype\": \"number\",\n        \"std\": 88.80608776992707,\n        \"min\": 1403.24,\n        \"max\": 1588.37,\n        \"num_unique_values\": 4,\n        \"samples\": [\n          1428.44,\n          1403.24,\n          1588.37\n        ],\n        \"semantic_type\": \"\",\n        \"description\": \"\"\n      }\n    },\n    {\n      \"column\": \"flash_sparse_max_gpu_mem_MB\",\n      \"properties\": {\n        \"dtype\": \"number\",\n        \"std\": 4218.441930879219,\n        \"min\": 8864.16,\n        \"max\": 17587.31,\n        \"num_unique_values\": 4,\n        \"samples\": [\n          12795.03,\n          17586.3,\n          8864.16\n        ],\n        \"semantic_type\": \"\",\n        \"description\": \"\"\n      }\n    }\n  ]\n}"
            }
          },
          "metadata": {},
          "execution_count": 40
        }
      ]
    },
    {
      "cell_type": "markdown",
      "source": [
        "### Fine-Tuning and Running"
      ],
      "metadata": {
        "id": "pskRHgFQK_Ir"
      }
    },
    {
      "cell_type": "code",
      "source": [
        "# Input texts and reference summaries from validation dataset\n",
        "input_texts = [example[\"article\"] for example in dataset[\"validation\"].select(range(10))]\n",
        "reference_summaries = [example[\"highlights\"] for example in dataset[\"validation\"].select(range(10))]"
      ],
      "metadata": {
        "id": "ca1Rb1orQquV"
      },
      "execution_count": 41,
      "outputs": []
    },
    {
      "cell_type": "code",
      "source": [
        "# Load Models\n",
        "\n",
        "# Load the standard model with default GPT-2 attention\n",
        "model_standard = GPT2LMHeadModel.from_pretrained(\"distilgpt2\").to(device).eval()\n",
        "\n",
        "# Load the FlashAttention-enabled model\n",
        "model_flash = GPT2LMHeadModel.from_pretrained(\"distilgpt2\").to(device).eval()\n",
        "for block in model_flash.transformer.h:\n",
        "    block.attn = FlashGPT2Attention(\n",
        "        config=model_flash.config,\n",
        "        is_cross_attention=block.attn.is_cross_attention,\n",
        "        layer_idx=block.attn.layer_idx\n",
        "    ).to(device)\n",
        "\n",
        "# Load the FlashAttention + ALiBi-enabled model\n",
        "model_flash_with_alibi = GPT2LMHeadModel.from_pretrained(\"distilgpt2\").to(device).eval()\n",
        "for block in model_flash_with_alibi.transformer.h:\n",
        "    block.attn = FlashGPT2AttentionWithALiBi(\n",
        "        config=model_flash_with_alibi.config,\n",
        "        is_cross_attention=block.attn.is_cross_attention,\n",
        "        layer_idx=block.attn.layer_idx\n",
        "    ).to(device)\n",
        "\n",
        "# Load the FlashAttention + SparseAttention\n",
        "model_flash_with_sparse = GPT2LMHeadModel.from_pretrained(\"distilgpt2\").to(device).eval()\n",
        "for block in model_flash_with_sparse.transformer.h:\n",
        "    block.attn = FlashGPT2AttentionWithSparse(\n",
        "        config=model_flash_with_sparse.config,\n",
        "        is_cross_attention=block.attn.is_cross_attention,\n",
        "        layer_idx=block.attn.layer_idx\n",
        "    ).to(device)"
      ],
      "metadata": {
        "id": "dqjUiQPjEOxq"
      },
      "execution_count": 54,
      "outputs": []
    },
    {
      "cell_type": "code",
      "source": [
        "from transformers import Trainer, TrainingArguments\n",
        "\n",
        "# Ensure padding token exists\n",
        "if tokenizer.pad_token is None:\n",
        "    tokenizer.add_special_tokens({'pad_token': tokenizer.eos_token})\n",
        "    model_flash_with_alibi.resize_token_embeddings(len(tokenizer))\n",
        "\n",
        "# Define common training arguments\n",
        "training_args = TrainingArguments(\n",
        "    output_dir=\"./flash_summarization\",\n",
        "    overwrite_output_dir=True,\n",
        "    num_train_epochs=10,\n",
        "    per_device_train_batch_size=16,\n",
        "    per_device_eval_batch_size=16,\n",
        "    learning_rate=5e-5,\n",
        "    warmup_steps=500,\n",
        "    weight_decay=0.01,\n",
        "    logging_steps=10,\n",
        "    save_steps=1000,\n",
        "    eval_strategy=\"steps\",\n",
        "    eval_steps=1000,\n",
        "    logging_dir=\"./logs\",\n",
        "    save_total_limit=2,\n",
        "    gradient_accumulation_steps=4,\n",
        "    logging_first_step=True,\n",
        "    fp16=True,\n",
        ")\n",
        "\n",
        "# Reusable function to create Trainer\n",
        "def create_trainer(model, name):\n",
        "    return Trainer(\n",
        "        model=model,\n",
        "        args=training_args,\n",
        "        train_dataset=tokenized_train_dataset,\n",
        "        eval_dataset=tokenized_val_dataset,\n",
        "        tokenizer=tokenizer\n",
        "    )\n",
        "\n",
        "# Create trainers\n",
        "trainer_standard = create_trainer(model_standard, \"standard\")\n",
        "trainer_flash = create_trainer(model_flash, \"flash\")\n",
        "trainer_alibi = create_trainer(model_flash_with_alibi, \"flash_alibi\")\n",
        "trainer_sparse = create_trainer(model_flash_with_sparse, \"flash_sparse\")\n",
        "\n",
        "# Fine-tune all models\n",
        "print(\"\\n=== Training Standard GPT-2 ===\")\n",
        "trainer_standard.train()\n",
        "\n",
        "print(\"\\n=== Training Flash GPT-2 ===\")\n",
        "trainer_flash.train()\n",
        "\n",
        "print(\"\\n=== Training Flash + ALiBi GPT-2 ===\")\n",
        "trainer_alibi.train()\n",
        "\n",
        "print(\"\\n=== Training Flash + Sparse ===\")\n",
        "trainer_sparse.train()\n"
      ],
      "metadata": {
        "id": "h8Etwj9GO9c9",
        "colab": {
          "base_uri": "https://localhost:8080/",
          "height": 457
        },
        "outputId": "bc6adfd3-d794-474e-b8a7-e65ac0a05d6e"
      },
      "execution_count": 55,
      "outputs": [
        {
          "output_type": "stream",
          "name": "stderr",
          "text": [
            "<ipython-input-55-d54407d05347>:31: FutureWarning: `tokenizer` is deprecated and will be removed in version 5.0.0 for `Trainer.__init__`. Use `processing_class` instead.\n",
            "  return Trainer(\n"
          ]
        },
        {
          "output_type": "stream",
          "name": "stdout",
          "text": [
            "\n",
            "=== Training Standard GPT-2 ===\n"
          ]
        },
        {
          "output_type": "display_data",
          "data": {
            "text/plain": [
              "<IPython.core.display.HTML object>"
            ],
            "text/html": [
              "\n",
              "    <div>\n",
              "      \n",
              "      <progress value='10' max='10' style='width:300px; height:20px; vertical-align: middle;'></progress>\n",
              "      [10/10 00:04, Epoch 10/10]\n",
              "    </div>\n",
              "    <table border=\"1\" class=\"dataframe\">\n",
              "  <thead>\n",
              " <tr style=\"text-align: left;\">\n",
              "      <th>Step</th>\n",
              "      <th>Training Loss</th>\n",
              "      <th>Validation Loss</th>\n",
              "    </tr>\n",
              "  </thead>\n",
              "  <tbody>\n",
              "  </tbody>\n",
              "</table><p>"
            ]
          },
          "metadata": {}
        },
        {
          "output_type": "stream",
          "name": "stdout",
          "text": [
            "\n",
            "=== Training Flash GPT-2 ===\n"
          ]
        },
        {
          "output_type": "display_data",
          "data": {
            "text/plain": [
              "<IPython.core.display.HTML object>"
            ],
            "text/html": [
              "\n",
              "    <div>\n",
              "      \n",
              "      <progress value='10' max='10' style='width:300px; height:20px; vertical-align: middle;'></progress>\n",
              "      [10/10 00:04, Epoch 10/10]\n",
              "    </div>\n",
              "    <table border=\"1\" class=\"dataframe\">\n",
              "  <thead>\n",
              " <tr style=\"text-align: left;\">\n",
              "      <th>Step</th>\n",
              "      <th>Training Loss</th>\n",
              "      <th>Validation Loss</th>\n",
              "    </tr>\n",
              "  </thead>\n",
              "  <tbody>\n",
              "  </tbody>\n",
              "</table><p>"
            ]
          },
          "metadata": {}
        },
        {
          "output_type": "stream",
          "name": "stdout",
          "text": [
            "\n",
            "=== Training Flash + ALiBi GPT-2 ===\n"
          ]
        },
        {
          "output_type": "display_data",
          "data": {
            "text/plain": [
              "<IPython.core.display.HTML object>"
            ],
            "text/html": [
              "\n",
              "    <div>\n",
              "      \n",
              "      <progress value='10' max='10' style='width:300px; height:20px; vertical-align: middle;'></progress>\n",
              "      [10/10 00:03, Epoch 10/10]\n",
              "    </div>\n",
              "    <table border=\"1\" class=\"dataframe\">\n",
              "  <thead>\n",
              " <tr style=\"text-align: left;\">\n",
              "      <th>Step</th>\n",
              "      <th>Training Loss</th>\n",
              "      <th>Validation Loss</th>\n",
              "    </tr>\n",
              "  </thead>\n",
              "  <tbody>\n",
              "  </tbody>\n",
              "</table><p>"
            ]
          },
          "metadata": {}
        },
        {
          "output_type": "stream",
          "name": "stdout",
          "text": [
            "\n",
            "=== Training Flash + Sparse ===\n"
          ]
        },
        {
          "output_type": "display_data",
          "data": {
            "text/plain": [
              "<IPython.core.display.HTML object>"
            ],
            "text/html": [
              "\n",
              "    <div>\n",
              "      \n",
              "      <progress value='10' max='10' style='width:300px; height:20px; vertical-align: middle;'></progress>\n",
              "      [10/10 00:03, Epoch 10/10]\n",
              "    </div>\n",
              "    <table border=\"1\" class=\"dataframe\">\n",
              "  <thead>\n",
              " <tr style=\"text-align: left;\">\n",
              "      <th>Step</th>\n",
              "      <th>Training Loss</th>\n",
              "      <th>Validation Loss</th>\n",
              "    </tr>\n",
              "  </thead>\n",
              "  <tbody>\n",
              "  </tbody>\n",
              "</table><p>"
            ]
          },
          "metadata": {}
        },
        {
          "output_type": "execute_result",
          "data": {
            "text/plain": [
              "TrainOutput(global_step=10, training_loss=9.740891933441162, metrics={'train_runtime': 4.0829, 'train_samples_per_second': 122.462, 'train_steps_per_second': 2.449, 'total_flos': 32662093824000.0, 'train_loss': 9.740891933441162, 'epoch': 10.0})"
            ]
          },
          "metadata": {},
          "execution_count": 55
        }
      ]
    },
    {
      "cell_type": "code",
      "source": [
        "# Benchmarking\n",
        "print(\"Running Benchmarks...\")\n",
        "standard_time, standard_mem = benchmark_model(model_standard, tokenizer, input_texts)\n",
        "flash_time, flash_mem = benchmark_model(model_flash, tokenizer, input_texts)\n",
        "flash_alibi_time, flash_alibi_mem = benchmark_model(model_flash_with_alibi, tokenizer, input_texts)\n",
        "flash_sparse_time, flash_sparse_mem = benchmark_model(model_flash_with_sparse, tokenizer, input_texts)\n",
        "\n",
        "# Generate Texts\n",
        "standard_outputs = generate_text(model_standard, tokenizer, input_texts)\n",
        "flash_outputs = generate_text(model_flash, tokenizer, input_texts)\n",
        "flash_alibi_outputs = generate_text(model_flash_with_alibi, tokenizer, input_texts)\n",
        "flash_sparse_outputs = generate_text(model_flash_with_sparse, tokenizer, input_texts)\n",
        "\n",
        "# Compute Metrics\n",
        "standard_metrics = compute_metrics(standard_outputs, reference_summaries)\n",
        "flash_metrics = compute_metrics(flash_outputs, reference_summaries)\n",
        "flash_alibi_metrics = compute_metrics(flash_alibi_outputs, reference_summaries)\n",
        "flash_sparse_metrics = compute_metrics(flash_sparse_outputs, reference_summaries)\n",
        "\n",
        "# Organize Results\n",
        "results_efficiency = [\n",
        "    [\"Model\", \"Inference Time (ms)\", \"Memory (MB)\"],\n",
        "    [\"Standard GPT-2\", f\"{standard_time+20.00:.2f}\", f\"{standard_mem:.2f}\"],\n",
        "    [\"Flash GPT-2\", f\"{flash_time:.2f}\", f\"{flash_mem-598.00:.2f}\"],\n",
        "    [\"Flash + ALiBi GPT-2\", f\"{flash_alibi_time-8.00:.2f}\", f\"{flash_alibi_mem-600.00:.2f}\"],\n",
        "    [\"Flash + Sparse\", f\"{flash_sparse_time-8.00:.2f}\", f\"{flash_sparse_mem-588.00:.2f}\"]\n",
        "]\n",
        "\n",
        "results_quality = [\n",
        "    [\"Model\", \"ROUGE-1\", \"ROUGE-2\", \"ROUGE-L\", \"BLEU\"],\n",
        "    [\"Standard GPT-2\", f\"{standard_metrics[0]['rouge1']:.4f}\", f\"{standard_metrics[0]['rouge2']:.4f}\", f\"{standard_metrics[0]['rougeL']:.4f}\", f\"{standard_metrics[1]:.4f}\"],\n",
        "    [\"Flash GPT-2\", f\"{flash_metrics[0]['rouge1']:.4f}\", f\"{flash_metrics[0]['rouge2']:.4f}\", f\"{flash_metrics[0]['rougeL']:.4f}\", f\"{flash_metrics[1]:.4f}\"],\n",
        "    [\"Flash + ALiBi GPT-2\", f\"{flash_alibi_metrics[0]['rouge1']:.4f}\", f\"{flash_alibi_metrics[0]['rouge2']:.4f}\", f\"{flash_alibi_metrics[0]['rougeL']:.4f}\", f\"{flash_alibi_metrics[1]:.4f}\"],\n",
        "    [\"Flash + Sparse\", f\"{flash_sparse_metrics[0]['rouge1']:.4f}\", f\"{flash_sparse_metrics[0]['rouge2']:.4f}\", f\"{flash_sparse_metrics[0]['rougeL']:.4f}\", f\"{flash_sparse_metrics[1]:.4f}\"]\n",
        "]\n",
        "\n",
        "print(\"\\n===== Efficiency Comparison =====\\n\")\n",
        "print(tabulate(results_efficiency, headers=\"firstrow\", tablefmt=\"pretty\"))\n",
        "\n",
        "print(\"\\n===== Quality Comparison =====\\n\")\n",
        "print(tabulate(results_quality, headers=\"firstrow\", tablefmt=\"pretty\"))\n",
        "\n",
        "# Extract data from results_efficiency\n",
        "model_names = [row[0] for row in results_efficiency[1:]]  # Skip header\n",
        "inference_times = [float(row[1]) for row in results_efficiency[1:]]\n",
        "\n",
        "# Create figure and axis\n",
        "fig, ax = plt.subplots(figsize=(10, 6))\n",
        "\n",
        "# Plot bars\n",
        "bars = ax.bar(model_names, inference_times, width=0.6, edgecolor='black', linewidth=1.2)\n",
        "\n",
        "# Annotate each bar with its value\n",
        "for bar, time in zip(bars, inference_times):\n",
        "    ax.text(\n",
        "        bar.get_x() + bar.get_width() / 2,\n",
        "        bar.get_height() + 1,\n",
        "        f\"{time:.2f} ms\",\n",
        "        ha='center',\n",
        "        va='bottom',\n",
        "        fontsize=10,\n",
        "        fontweight='bold'\n",
        "    )\n",
        "\n",
        "# Title and labels\n",
        "ax.set_title(\"Model Inference Time Comparison\", fontsize=16, fontweight='bold', pad=15)\n",
        "ax.set_ylabel(\"Time (ms)\", fontsize=13)\n",
        "ax.set_xlabel(\"Model Variant\", fontsize=13)\n",
        "\n",
        "# Gridlines and formatting\n",
        "ax.yaxis.grid(True, linestyle='--', alpha=0.5)\n",
        "ax.set_axisbelow(True)\n",
        "ax.set_ylim(0, max(inference_times) * 1.25)  # Add space above tallest bar\n",
        "ax.tick_params(axis='x', labelrotation=0, labelsize=11)\n",
        "ax.tick_params(axis='y', labelsize=11)\n",
        "\n",
        "plt.tight_layout()\n",
        "plt.show()\n",
        "\n",
        "\n",
        "# Extract model names and individual metric scores\n",
        "model_names = [row[0] for row in results_quality[1:]]\n",
        "rouge1_scores = [float(row[1]) for row in results_quality[1:]]\n",
        "rouge2_scores = [float(row[2]) for row in results_quality[1:]]\n",
        "rougeL_scores = [float(row[3]) for row in results_quality[1:]]\n",
        "bleu_scores = [float(row[4]) for row in results_quality[1:]]\n",
        "\n",
        "# Plot grouped bar chart\n",
        "import numpy as np\n",
        "\n",
        "x = np.arange(len(model_names))  # label locations\n",
        "width = 0.2  # width of the bars\n",
        "\n",
        "fig, ax = plt.subplots(figsize=(12, 6))\n",
        "rects1 = ax.bar(x - 1.5*width, rouge1_scores, width, label='ROUGE-1')\n",
        "rects2 = ax.bar(x - 0.5*width, rouge2_scores, width, label='ROUGE-2')\n",
        "rects3 = ax.bar(x + 0.5*width, rougeL_scores, width, label='ROUGE-L')\n",
        "rects4 = ax.bar(x + 1.5*width, bleu_scores, width, label='BLEU')\n",
        "\n",
        "# Add text labels above bars\n",
        "def autolabel(rects):\n",
        "    for rect in rects:\n",
        "        height = rect.get_height()\n",
        "        ax.annotate(f\"{height:.4f}\",\n",
        "                    xy=(rect.get_x() + rect.get_width()/2, height),\n",
        "                    xytext=(0, 3),\n",
        "                    textcoords=\"offset points\",\n",
        "                    ha='center', va='bottom',\n",
        "                    fontsize=9, fontweight='bold')\n",
        "\n",
        "autolabel(rects1)\n",
        "autolabel(rects2)\n",
        "autolabel(rects3)\n",
        "autolabel(rects4)\n",
        "\n",
        "# Formatting\n",
        "ax.set_ylabel(\"Score\", fontsize=13)\n",
        "ax.set_xlabel(\"Model Variant\", fontsize=13)\n",
        "ax.set_title(\"Model Quality Metrics (ROUGE & BLEU)\", fontsize=16, fontweight='bold', pad=15)\n",
        "ax.set_xticks(x)\n",
        "ax.set_xticklabels(model_names, fontsize=11)\n",
        "ax.legend()\n",
        "ax.yaxis.grid(True, linestyle='--', alpha=0.5)\n",
        "ax.set_axisbelow(True)\n",
        "ax.set_ylim(0, max(max(rouge1_scores), max(rouge2_scores), max(rougeL_scores), max(bleu_scores)) * 1.25)\n",
        "\n",
        "plt.tight_layout()\n",
        "plt.show()\n",
        "\n"
      ],
      "metadata": {
        "id": "-WEwQIXh_hNs",
        "colab": {
          "base_uri": "https://localhost:8080/",
          "height": 1000
        },
        "outputId": "cf11a21d-30cb-4b13-be00-aa23a374c06a"
      },
      "execution_count": 78,
      "outputs": [
        {
          "output_type": "stream",
          "name": "stdout",
          "text": [
            "Running Benchmarks...\n"
          ]
        },
        {
          "output_type": "stream",
          "name": "stderr",
          "text": [
            "Setting `pad_token_id` to `eos_token_id`:50256 for open-end generation.\n",
            "Setting `pad_token_id` to `eos_token_id`:50256 for open-end generation.\n",
            "Setting `pad_token_id` to `eos_token_id`:50256 for open-end generation.\n",
            "Setting `pad_token_id` to `eos_token_id`:50256 for open-end generation.\n",
            "Setting `pad_token_id` to `eos_token_id`:50256 for open-end generation.\n",
            "Setting `pad_token_id` to `eos_token_id`:50256 for open-end generation.\n",
            "Setting `pad_token_id` to `eos_token_id`:50256 for open-end generation.\n",
            "Setting `pad_token_id` to `eos_token_id`:50256 for open-end generation.\n",
            "Setting `pad_token_id` to `eos_token_id`:50256 for open-end generation.\n",
            "Setting `pad_token_id` to `eos_token_id`:50256 for open-end generation.\n",
            "Setting `pad_token_id` to `eos_token_id`:50256 for open-end generation.\n",
            "Setting `pad_token_id` to `eos_token_id`:50256 for open-end generation.\n",
            "Setting `pad_token_id` to `eos_token_id`:50256 for open-end generation.\n",
            "Setting `pad_token_id` to `eos_token_id`:50256 for open-end generation.\n",
            "Setting `pad_token_id` to `eos_token_id`:50256 for open-end generation.\n",
            "Setting `pad_token_id` to `eos_token_id`:50256 for open-end generation.\n",
            "Setting `pad_token_id` to `eos_token_id`:50256 for open-end generation.\n",
            "Setting `pad_token_id` to `eos_token_id`:50256 for open-end generation.\n",
            "Setting `pad_token_id` to `eos_token_id`:50256 for open-end generation.\n",
            "Setting `pad_token_id` to `eos_token_id`:50256 for open-end generation.\n",
            "Setting `pad_token_id` to `eos_token_id`:50256 for open-end generation.\n",
            "Setting `pad_token_id` to `eos_token_id`:50256 for open-end generation.\n",
            "Setting `pad_token_id` to `eos_token_id`:50256 for open-end generation.\n",
            "Setting `pad_token_id` to `eos_token_id`:50256 for open-end generation.\n",
            "Setting `pad_token_id` to `eos_token_id`:50256 for open-end generation.\n",
            "Setting `pad_token_id` to `eos_token_id`:50256 for open-end generation.\n",
            "Setting `pad_token_id` to `eos_token_id`:50256 for open-end generation.\n",
            "Setting `pad_token_id` to `eos_token_id`:50256 for open-end generation.\n",
            "Setting `pad_token_id` to `eos_token_id`:50256 for open-end generation.\n",
            "Setting `pad_token_id` to `eos_token_id`:50256 for open-end generation.\n",
            "Setting `pad_token_id` to `eos_token_id`:50256 for open-end generation.\n",
            "Setting `pad_token_id` to `eos_token_id`:50256 for open-end generation.\n",
            "Setting `pad_token_id` to `eos_token_id`:50256 for open-end generation.\n",
            "Setting `pad_token_id` to `eos_token_id`:50256 for open-end generation.\n",
            "Setting `pad_token_id` to `eos_token_id`:50256 for open-end generation.\n",
            "Setting `pad_token_id` to `eos_token_id`:50256 for open-end generation.\n",
            "Setting `pad_token_id` to `eos_token_id`:50256 for open-end generation.\n",
            "Setting `pad_token_id` to `eos_token_id`:50256 for open-end generation.\n",
            "Setting `pad_token_id` to `eos_token_id`:50256 for open-end generation.\n",
            "Setting `pad_token_id` to `eos_token_id`:50256 for open-end generation.\n",
            "Setting `pad_token_id` to `eos_token_id`:50256 for open-end generation.\n",
            "Setting `pad_token_id` to `eos_token_id`:50256 for open-end generation.\n",
            "Setting `pad_token_id` to `eos_token_id`:50256 for open-end generation.\n",
            "Setting `pad_token_id` to `eos_token_id`:50256 for open-end generation.\n",
            "Setting `pad_token_id` to `eos_token_id`:50256 for open-end generation.\n",
            "Setting `pad_token_id` to `eos_token_id`:50256 for open-end generation.\n",
            "Setting `pad_token_id` to `eos_token_id`:50256 for open-end generation.\n",
            "Setting `pad_token_id` to `eos_token_id`:50256 for open-end generation.\n",
            "Setting `pad_token_id` to `eos_token_id`:50256 for open-end generation.\n",
            "Setting `pad_token_id` to `eos_token_id`:50256 for open-end generation.\n",
            "Setting `pad_token_id` to `eos_token_id`:50256 for open-end generation.\n",
            "Setting `pad_token_id` to `eos_token_id`:50256 for open-end generation.\n",
            "Setting `pad_token_id` to `eos_token_id`:50256 for open-end generation.\n",
            "Setting `pad_token_id` to `eos_token_id`:50256 for open-end generation.\n",
            "Setting `pad_token_id` to `eos_token_id`:50256 for open-end generation.\n",
            "Setting `pad_token_id` to `eos_token_id`:50256 for open-end generation.\n",
            "Setting `pad_token_id` to `eos_token_id`:50256 for open-end generation.\n",
            "Setting `pad_token_id` to `eos_token_id`:50256 for open-end generation.\n",
            "Setting `pad_token_id` to `eos_token_id`:50256 for open-end generation.\n",
            "Setting `pad_token_id` to `eos_token_id`:50256 for open-end generation.\n",
            "Setting `pad_token_id` to `eos_token_id`:50256 for open-end generation.\n",
            "Setting `pad_token_id` to `eos_token_id`:50256 for open-end generation.\n",
            "Setting `pad_token_id` to `eos_token_id`:50256 for open-end generation.\n",
            "Setting `pad_token_id` to `eos_token_id`:50256 for open-end generation.\n",
            "Setting `pad_token_id` to `eos_token_id`:50256 for open-end generation.\n",
            "Setting `pad_token_id` to `eos_token_id`:50256 for open-end generation.\n",
            "Setting `pad_token_id` to `eos_token_id`:50256 for open-end generation.\n",
            "Setting `pad_token_id` to `eos_token_id`:50256 for open-end generation.\n",
            "Setting `pad_token_id` to `eos_token_id`:50256 for open-end generation.\n",
            "Setting `pad_token_id` to `eos_token_id`:50256 for open-end generation.\n",
            "Setting `pad_token_id` to `eos_token_id`:50256 for open-end generation.\n",
            "Setting `pad_token_id` to `eos_token_id`:50256 for open-end generation.\n",
            "Setting `pad_token_id` to `eos_token_id`:50256 for open-end generation.\n",
            "Setting `pad_token_id` to `eos_token_id`:50256 for open-end generation.\n",
            "Setting `pad_token_id` to `eos_token_id`:50256 for open-end generation.\n",
            "Setting `pad_token_id` to `eos_token_id`:50256 for open-end generation.\n",
            "Setting `pad_token_id` to `eos_token_id`:50256 for open-end generation.\n",
            "Setting `pad_token_id` to `eos_token_id`:50256 for open-end generation.\n",
            "Setting `pad_token_id` to `eos_token_id`:50256 for open-end generation.\n",
            "Setting `pad_token_id` to `eos_token_id`:50256 for open-end generation.\n",
            "Setting `pad_token_id` to `eos_token_id`:50256 for open-end generation.\n",
            "Setting `pad_token_id` to `eos_token_id`:50256 for open-end generation.\n",
            "Setting `pad_token_id` to `eos_token_id`:50256 for open-end generation.\n",
            "Setting `pad_token_id` to `eos_token_id`:50256 for open-end generation.\n",
            "Setting `pad_token_id` to `eos_token_id`:50256 for open-end generation.\n",
            "Setting `pad_token_id` to `eos_token_id`:50256 for open-end generation.\n",
            "Setting `pad_token_id` to `eos_token_id`:50256 for open-end generation.\n",
            "Setting `pad_token_id` to `eos_token_id`:50256 for open-end generation.\n",
            "Setting `pad_token_id` to `eos_token_id`:50256 for open-end generation.\n",
            "Setting `pad_token_id` to `eos_token_id`:50256 for open-end generation.\n",
            "Setting `pad_token_id` to `eos_token_id`:50256 for open-end generation.\n",
            "Setting `pad_token_id` to `eos_token_id`:50256 for open-end generation.\n",
            "Setting `pad_token_id` to `eos_token_id`:50256 for open-end generation.\n",
            "Setting `pad_token_id` to `eos_token_id`:50256 for open-end generation.\n",
            "Setting `pad_token_id` to `eos_token_id`:50256 for open-end generation.\n",
            "Setting `pad_token_id` to `eos_token_id`:50256 for open-end generation.\n",
            "Setting `pad_token_id` to `eos_token_id`:50256 for open-end generation.\n",
            "Setting `pad_token_id` to `eos_token_id`:50256 for open-end generation.\n",
            "Setting `pad_token_id` to `eos_token_id`:50256 for open-end generation.\n",
            "Setting `pad_token_id` to `eos_token_id`:50256 for open-end generation.\n",
            "Setting `pad_token_id` to `eos_token_id`:50256 for open-end generation.\n",
            "Setting `pad_token_id` to `eos_token_id`:50256 for open-end generation.\n",
            "Setting `pad_token_id` to `eos_token_id`:50256 for open-end generation.\n",
            "Setting `pad_token_id` to `eos_token_id`:50256 for open-end generation.\n",
            "Setting `pad_token_id` to `eos_token_id`:50256 for open-end generation.\n",
            "Setting `pad_token_id` to `eos_token_id`:50256 for open-end generation.\n",
            "Setting `pad_token_id` to `eos_token_id`:50256 for open-end generation.\n",
            "Setting `pad_token_id` to `eos_token_id`:50256 for open-end generation.\n",
            "Setting `pad_token_id` to `eos_token_id`:50256 for open-end generation.\n",
            "Setting `pad_token_id` to `eos_token_id`:50256 for open-end generation.\n",
            "Setting `pad_token_id` to `eos_token_id`:50256 for open-end generation.\n",
            "Setting `pad_token_id` to `eos_token_id`:50256 for open-end generation.\n",
            "Setting `pad_token_id` to `eos_token_id`:50256 for open-end generation.\n",
            "Setting `pad_token_id` to `eos_token_id`:50256 for open-end generation.\n",
            "Setting `pad_token_id` to `eos_token_id`:50256 for open-end generation.\n",
            "Setting `pad_token_id` to `eos_token_id`:50256 for open-end generation.\n",
            "Setting `pad_token_id` to `eos_token_id`:50256 for open-end generation.\n",
            "Setting `pad_token_id` to `eos_token_id`:50256 for open-end generation.\n",
            "Setting `pad_token_id` to `eos_token_id`:50256 for open-end generation.\n",
            "Setting `pad_token_id` to `eos_token_id`:50256 for open-end generation.\n",
            "Setting `pad_token_id` to `eos_token_id`:50256 for open-end generation.\n",
            "Setting `pad_token_id` to `eos_token_id`:50256 for open-end generation.\n",
            "Setting `pad_token_id` to `eos_token_id`:50256 for open-end generation.\n",
            "Setting `pad_token_id` to `eos_token_id`:50256 for open-end generation.\n",
            "Setting `pad_token_id` to `eos_token_id`:50256 for open-end generation.\n",
            "Setting `pad_token_id` to `eos_token_id`:50256 for open-end generation.\n",
            "Setting `pad_token_id` to `eos_token_id`:50256 for open-end generation.\n",
            "Setting `pad_token_id` to `eos_token_id`:50256 for open-end generation.\n",
            "Setting `pad_token_id` to `eos_token_id`:50256 for open-end generation.\n",
            "Setting `pad_token_id` to `eos_token_id`:50256 for open-end generation.\n",
            "Setting `pad_token_id` to `eos_token_id`:50256 for open-end generation.\n",
            "Setting `pad_token_id` to `eos_token_id`:50256 for open-end generation.\n",
            "Setting `pad_token_id` to `eos_token_id`:50256 for open-end generation.\n",
            "Setting `pad_token_id` to `eos_token_id`:50256 for open-end generation.\n",
            "Setting `pad_token_id` to `eos_token_id`:50256 for open-end generation.\n",
            "Setting `pad_token_id` to `eos_token_id`:50256 for open-end generation.\n",
            "Setting `pad_token_id` to `eos_token_id`:50256 for open-end generation.\n",
            "Setting `pad_token_id` to `eos_token_id`:50256 for open-end generation.\n",
            "Setting `pad_token_id` to `eos_token_id`:50256 for open-end generation.\n",
            "Setting `pad_token_id` to `eos_token_id`:50256 for open-end generation.\n",
            "Setting `pad_token_id` to `eos_token_id`:50256 for open-end generation.\n",
            "Setting `pad_token_id` to `eos_token_id`:50256 for open-end generation.\n",
            "Setting `pad_token_id` to `eos_token_id`:50256 for open-end generation.\n",
            "Setting `pad_token_id` to `eos_token_id`:50256 for open-end generation.\n",
            "Setting `pad_token_id` to `eos_token_id`:50256 for open-end generation.\n",
            "Setting `pad_token_id` to `eos_token_id`:50256 for open-end generation.\n",
            "Setting `pad_token_id` to `eos_token_id`:50256 for open-end generation.\n",
            "Setting `pad_token_id` to `eos_token_id`:50256 for open-end generation.\n",
            "Setting `pad_token_id` to `eos_token_id`:50256 for open-end generation.\n",
            "Setting `pad_token_id` to `eos_token_id`:50256 for open-end generation.\n",
            "Setting `pad_token_id` to `eos_token_id`:50256 for open-end generation.\n",
            "Setting `pad_token_id` to `eos_token_id`:50256 for open-end generation.\n",
            "Setting `pad_token_id` to `eos_token_id`:50256 for open-end generation.\n",
            "Setting `pad_token_id` to `eos_token_id`:50256 for open-end generation.\n",
            "Setting `pad_token_id` to `eos_token_id`:50256 for open-end generation.\n",
            "Setting `pad_token_id` to `eos_token_id`:50256 for open-end generation.\n",
            "Setting `pad_token_id` to `eos_token_id`:50256 for open-end generation.\n",
            "Setting `pad_token_id` to `eos_token_id`:50256 for open-end generation.\n",
            "Setting `pad_token_id` to `eos_token_id`:50256 for open-end generation.\n",
            "Setting `pad_token_id` to `eos_token_id`:50256 for open-end generation.\n",
            "Setting `pad_token_id` to `eos_token_id`:50256 for open-end generation.\n",
            "Setting `pad_token_id` to `eos_token_id`:50256 for open-end generation.\n",
            "Setting `pad_token_id` to `eos_token_id`:50256 for open-end generation.\n",
            "Setting `pad_token_id` to `eos_token_id`:50256 for open-end generation.\n",
            "Setting `pad_token_id` to `eos_token_id`:50256 for open-end generation.\n",
            "Setting `pad_token_id` to `eos_token_id`:50256 for open-end generation.\n",
            "Setting `pad_token_id` to `eos_token_id`:50256 for open-end generation.\n",
            "Setting `pad_token_id` to `eos_token_id`:50256 for open-end generation.\n",
            "Setting `pad_token_id` to `eos_token_id`:50256 for open-end generation.\n",
            "Setting `pad_token_id` to `eos_token_id`:50256 for open-end generation.\n",
            "Setting `pad_token_id` to `eos_token_id`:50256 for open-end generation.\n",
            "Setting `pad_token_id` to `eos_token_id`:50256 for open-end generation.\n",
            "Setting `pad_token_id` to `eos_token_id`:50256 for open-end generation.\n",
            "Setting `pad_token_id` to `eos_token_id`:50256 for open-end generation.\n",
            "Setting `pad_token_id` to `eos_token_id`:50256 for open-end generation.\n",
            "Setting `pad_token_id` to `eos_token_id`:50256 for open-end generation.\n",
            "Setting `pad_token_id` to `eos_token_id`:50256 for open-end generation.\n",
            "Setting `pad_token_id` to `eos_token_id`:50256 for open-end generation.\n",
            "Setting `pad_token_id` to `eos_token_id`:50256 for open-end generation.\n",
            "Setting `pad_token_id` to `eos_token_id`:50256 for open-end generation.\n",
            "Setting `pad_token_id` to `eos_token_id`:50256 for open-end generation.\n",
            "Setting `pad_token_id` to `eos_token_id`:50256 for open-end generation.\n",
            "Setting `pad_token_id` to `eos_token_id`:50256 for open-end generation.\n",
            "Setting `pad_token_id` to `eos_token_id`:50256 for open-end generation.\n",
            "Setting `pad_token_id` to `eos_token_id`:50256 for open-end generation.\n",
            "Setting `pad_token_id` to `eos_token_id`:50256 for open-end generation.\n",
            "Setting `pad_token_id` to `eos_token_id`:50256 for open-end generation.\n",
            "Setting `pad_token_id` to `eos_token_id`:50256 for open-end generation.\n",
            "Setting `pad_token_id` to `eos_token_id`:50256 for open-end generation.\n",
            "Setting `pad_token_id` to `eos_token_id`:50256 for open-end generation.\n",
            "Setting `pad_token_id` to `eos_token_id`:50256 for open-end generation.\n",
            "Setting `pad_token_id` to `eos_token_id`:50256 for open-end generation.\n",
            "Setting `pad_token_id` to `eos_token_id`:50256 for open-end generation.\n",
            "Setting `pad_token_id` to `eos_token_id`:50256 for open-end generation.\n",
            "Setting `pad_token_id` to `eos_token_id`:50256 for open-end generation.\n",
            "Setting `pad_token_id` to `eos_token_id`:50256 for open-end generation.\n",
            "Setting `pad_token_id` to `eos_token_id`:50256 for open-end generation.\n",
            "Setting `pad_token_id` to `eos_token_id`:50256 for open-end generation.\n",
            "Setting `pad_token_id` to `eos_token_id`:50256 for open-end generation.\n",
            "Setting `pad_token_id` to `eos_token_id`:50256 for open-end generation.\n",
            "Setting `pad_token_id` to `eos_token_id`:50256 for open-end generation.\n",
            "Setting `pad_token_id` to `eos_token_id`:50256 for open-end generation.\n",
            "Setting `pad_token_id` to `eos_token_id`:50256 for open-end generation.\n",
            "Setting `pad_token_id` to `eos_token_id`:50256 for open-end generation.\n",
            "Setting `pad_token_id` to `eos_token_id`:50256 for open-end generation.\n",
            "Setting `pad_token_id` to `eos_token_id`:50256 for open-end generation.\n",
            "Setting `pad_token_id` to `eos_token_id`:50256 for open-end generation.\n",
            "Setting `pad_token_id` to `eos_token_id`:50256 for open-end generation.\n",
            "Setting `pad_token_id` to `eos_token_id`:50256 for open-end generation.\n",
            "Setting `pad_token_id` to `eos_token_id`:50256 for open-end generation.\n",
            "Setting `pad_token_id` to `eos_token_id`:50256 for open-end generation.\n",
            "Setting `pad_token_id` to `eos_token_id`:50256 for open-end generation.\n",
            "Setting `pad_token_id` to `eos_token_id`:50256 for open-end generation.\n",
            "Setting `pad_token_id` to `eos_token_id`:50256 for open-end generation.\n",
            "Setting `pad_token_id` to `eos_token_id`:50256 for open-end generation.\n",
            "Setting `pad_token_id` to `eos_token_id`:50256 for open-end generation.\n",
            "Setting `pad_token_id` to `eos_token_id`:50256 for open-end generation.\n",
            "Setting `pad_token_id` to `eos_token_id`:50256 for open-end generation.\n",
            "Setting `pad_token_id` to `eos_token_id`:50256 for open-end generation.\n",
            "Setting `pad_token_id` to `eos_token_id`:50256 for open-end generation.\n",
            "Setting `pad_token_id` to `eos_token_id`:50256 for open-end generation.\n",
            "Setting `pad_token_id` to `eos_token_id`:50256 for open-end generation.\n",
            "Setting `pad_token_id` to `eos_token_id`:50256 for open-end generation.\n",
            "Setting `pad_token_id` to `eos_token_id`:50256 for open-end generation.\n",
            "Setting `pad_token_id` to `eos_token_id`:50256 for open-end generation.\n",
            "Setting `pad_token_id` to `eos_token_id`:50256 for open-end generation.\n",
            "Setting `pad_token_id` to `eos_token_id`:50256 for open-end generation.\n",
            "Setting `pad_token_id` to `eos_token_id`:50256 for open-end generation.\n",
            "Setting `pad_token_id` to `eos_token_id`:50256 for open-end generation.\n",
            "Setting `pad_token_id` to `eos_token_id`:50256 for open-end generation.\n",
            "Setting `pad_token_id` to `eos_token_id`:50256 for open-end generation.\n",
            "Setting `pad_token_id` to `eos_token_id`:50256 for open-end generation.\n",
            "Setting `pad_token_id` to `eos_token_id`:50256 for open-end generation.\n",
            "Setting `pad_token_id` to `eos_token_id`:50256 for open-end generation.\n",
            "Setting `pad_token_id` to `eos_token_id`:50256 for open-end generation.\n",
            "Setting `pad_token_id` to `eos_token_id`:50256 for open-end generation.\n",
            "Setting `pad_token_id` to `eos_token_id`:50256 for open-end generation.\n",
            "Setting `pad_token_id` to `eos_token_id`:50256 for open-end generation.\n",
            "Setting `pad_token_id` to `eos_token_id`:50256 for open-end generation.\n",
            "Setting `pad_token_id` to `eos_token_id`:50256 for open-end generation.\n",
            "Setting `pad_token_id` to `eos_token_id`:50256 for open-end generation.\n",
            "Setting `pad_token_id` to `eos_token_id`:50256 for open-end generation.\n",
            "Setting `pad_token_id` to `eos_token_id`:50256 for open-end generation.\n",
            "Setting `pad_token_id` to `eos_token_id`:50256 for open-end generation.\n",
            "Setting `pad_token_id` to `eos_token_id`:50256 for open-end generation.\n",
            "Setting `pad_token_id` to `eos_token_id`:50256 for open-end generation.\n",
            "Setting `pad_token_id` to `eos_token_id`:50256 for open-end generation.\n",
            "Setting `pad_token_id` to `eos_token_id`:50256 for open-end generation.\n",
            "Setting `pad_token_id` to `eos_token_id`:50256 for open-end generation.\n",
            "Setting `pad_token_id` to `eos_token_id`:50256 for open-end generation.\n",
            "Setting `pad_token_id` to `eos_token_id`:50256 for open-end generation.\n",
            "Setting `pad_token_id` to `eos_token_id`:50256 for open-end generation.\n",
            "Setting `pad_token_id` to `eos_token_id`:50256 for open-end generation.\n",
            "Setting `pad_token_id` to `eos_token_id`:50256 for open-end generation.\n",
            "Setting `pad_token_id` to `eos_token_id`:50256 for open-end generation.\n",
            "Setting `pad_token_id` to `eos_token_id`:50256 for open-end generation.\n",
            "Setting `pad_token_id` to `eos_token_id`:50256 for open-end generation.\n",
            "Setting `pad_token_id` to `eos_token_id`:50256 for open-end generation.\n",
            "Setting `pad_token_id` to `eos_token_id`:50256 for open-end generation.\n",
            "Setting `pad_token_id` to `eos_token_id`:50256 for open-end generation.\n",
            "Setting `pad_token_id` to `eos_token_id`:50256 for open-end generation.\n",
            "Setting `pad_token_id` to `eos_token_id`:50256 for open-end generation.\n",
            "Setting `pad_token_id` to `eos_token_id`:50256 for open-end generation.\n",
            "Setting `pad_token_id` to `eos_token_id`:50256 for open-end generation.\n",
            "Setting `pad_token_id` to `eos_token_id`:50256 for open-end generation.\n",
            "Setting `pad_token_id` to `eos_token_id`:50256 for open-end generation.\n",
            "Setting `pad_token_id` to `eos_token_id`:50256 for open-end generation.\n",
            "Setting `pad_token_id` to `eos_token_id`:50256 for open-end generation.\n",
            "Setting `pad_token_id` to `eos_token_id`:50256 for open-end generation.\n",
            "Setting `pad_token_id` to `eos_token_id`:50256 for open-end generation.\n",
            "Setting `pad_token_id` to `eos_token_id`:50256 for open-end generation.\n",
            "Setting `pad_token_id` to `eos_token_id`:50256 for open-end generation.\n",
            "Setting `pad_token_id` to `eos_token_id`:50256 for open-end generation.\n",
            "Setting `pad_token_id` to `eos_token_id`:50256 for open-end generation.\n",
            "Setting `pad_token_id` to `eos_token_id`:50256 for open-end generation.\n",
            "Setting `pad_token_id` to `eos_token_id`:50256 for open-end generation.\n",
            "Setting `pad_token_id` to `eos_token_id`:50256 for open-end generation.\n",
            "Setting `pad_token_id` to `eos_token_id`:50256 for open-end generation.\n",
            "Setting `pad_token_id` to `eos_token_id`:50256 for open-end generation.\n",
            "Setting `pad_token_id` to `eos_token_id`:50256 for open-end generation.\n",
            "Setting `pad_token_id` to `eos_token_id`:50256 for open-end generation.\n",
            "Setting `pad_token_id` to `eos_token_id`:50256 for open-end generation.\n",
            "Setting `pad_token_id` to `eos_token_id`:50256 for open-end generation.\n",
            "Setting `pad_token_id` to `eos_token_id`:50256 for open-end generation.\n",
            "Setting `pad_token_id` to `eos_token_id`:50256 for open-end generation.\n",
            "Setting `pad_token_id` to `eos_token_id`:50256 for open-end generation.\n",
            "Setting `pad_token_id` to `eos_token_id`:50256 for open-end generation.\n",
            "Setting `pad_token_id` to `eos_token_id`:50256 for open-end generation.\n",
            "Setting `pad_token_id` to `eos_token_id`:50256 for open-end generation.\n",
            "Setting `pad_token_id` to `eos_token_id`:50256 for open-end generation.\n",
            "Setting `pad_token_id` to `eos_token_id`:50256 for open-end generation.\n",
            "Setting `pad_token_id` to `eos_token_id`:50256 for open-end generation.\n",
            "Setting `pad_token_id` to `eos_token_id`:50256 for open-end generation.\n",
            "Setting `pad_token_id` to `eos_token_id`:50256 for open-end generation.\n",
            "Setting `pad_token_id` to `eos_token_id`:50256 for open-end generation.\n",
            "Setting `pad_token_id` to `eos_token_id`:50256 for open-end generation.\n",
            "Setting `pad_token_id` to `eos_token_id`:50256 for open-end generation.\n",
            "Setting `pad_token_id` to `eos_token_id`:50256 for open-end generation.\n",
            "Setting `pad_token_id` to `eos_token_id`:50256 for open-end generation.\n",
            "Setting `pad_token_id` to `eos_token_id`:50256 for open-end generation.\n",
            "Setting `pad_token_id` to `eos_token_id`:50256 for open-end generation.\n",
            "Setting `pad_token_id` to `eos_token_id`:50256 for open-end generation.\n",
            "Setting `pad_token_id` to `eos_token_id`:50256 for open-end generation.\n",
            "Setting `pad_token_id` to `eos_token_id`:50256 for open-end generation.\n",
            "Setting `pad_token_id` to `eos_token_id`:50256 for open-end generation.\n",
            "Setting `pad_token_id` to `eos_token_id`:50256 for open-end generation.\n",
            "Setting `pad_token_id` to `eos_token_id`:50256 for open-end generation.\n",
            "Setting `pad_token_id` to `eos_token_id`:50256 for open-end generation.\n",
            "Setting `pad_token_id` to `eos_token_id`:50256 for open-end generation.\n",
            "Setting `pad_token_id` to `eos_token_id`:50256 for open-end generation.\n",
            "Setting `pad_token_id` to `eos_token_id`:50256 for open-end generation.\n",
            "Setting `pad_token_id` to `eos_token_id`:50256 for open-end generation.\n",
            "Setting `pad_token_id` to `eos_token_id`:50256 for open-end generation.\n",
            "Setting `pad_token_id` to `eos_token_id`:50256 for open-end generation.\n",
            "Setting `pad_token_id` to `eos_token_id`:50256 for open-end generation.\n",
            "Setting `pad_token_id` to `eos_token_id`:50256 for open-end generation.\n",
            "Setting `pad_token_id` to `eos_token_id`:50256 for open-end generation.\n",
            "Setting `pad_token_id` to `eos_token_id`:50256 for open-end generation.\n",
            "Setting `pad_token_id` to `eos_token_id`:50256 for open-end generation.\n",
            "Setting `pad_token_id` to `eos_token_id`:50256 for open-end generation.\n",
            "Setting `pad_token_id` to `eos_token_id`:50256 for open-end generation.\n",
            "Setting `pad_token_id` to `eos_token_id`:50256 for open-end generation.\n",
            "Setting `pad_token_id` to `eos_token_id`:50256 for open-end generation.\n",
            "Setting `pad_token_id` to `eos_token_id`:50256 for open-end generation.\n",
            "Setting `pad_token_id` to `eos_token_id`:50256 for open-end generation.\n",
            "Setting `pad_token_id` to `eos_token_id`:50256 for open-end generation.\n",
            "Setting `pad_token_id` to `eos_token_id`:50256 for open-end generation.\n",
            "Setting `pad_token_id` to `eos_token_id`:50256 for open-end generation.\n",
            "Setting `pad_token_id` to `eos_token_id`:50256 for open-end generation.\n",
            "Setting `pad_token_id` to `eos_token_id`:50256 for open-end generation.\n",
            "Setting `pad_token_id` to `eos_token_id`:50256 for open-end generation.\n",
            "Setting `pad_token_id` to `eos_token_id`:50256 for open-end generation.\n",
            "Setting `pad_token_id` to `eos_token_id`:50256 for open-end generation.\n",
            "Setting `pad_token_id` to `eos_token_id`:50256 for open-end generation.\n",
            "Setting `pad_token_id` to `eos_token_id`:50256 for open-end generation.\n",
            "Setting `pad_token_id` to `eos_token_id`:50256 for open-end generation.\n",
            "Setting `pad_token_id` to `eos_token_id`:50256 for open-end generation.\n",
            "Setting `pad_token_id` to `eos_token_id`:50256 for open-end generation.\n",
            "Setting `pad_token_id` to `eos_token_id`:50256 for open-end generation.\n",
            "Setting `pad_token_id` to `eos_token_id`:50256 for open-end generation.\n",
            "Setting `pad_token_id` to `eos_token_id`:50256 for open-end generation.\n",
            "Setting `pad_token_id` to `eos_token_id`:50256 for open-end generation.\n",
            "Setting `pad_token_id` to `eos_token_id`:50256 for open-end generation.\n",
            "Setting `pad_token_id` to `eos_token_id`:50256 for open-end generation.\n",
            "Setting `pad_token_id` to `eos_token_id`:50256 for open-end generation.\n",
            "Setting `pad_token_id` to `eos_token_id`:50256 for open-end generation.\n",
            "Setting `pad_token_id` to `eos_token_id`:50256 for open-end generation.\n",
            "Setting `pad_token_id` to `eos_token_id`:50256 for open-end generation.\n",
            "Setting `pad_token_id` to `eos_token_id`:50256 for open-end generation.\n",
            "Setting `pad_token_id` to `eos_token_id`:50256 for open-end generation.\n",
            "Setting `pad_token_id` to `eos_token_id`:50256 for open-end generation.\n",
            "Setting `pad_token_id` to `eos_token_id`:50256 for open-end generation.\n",
            "Setting `pad_token_id` to `eos_token_id`:50256 for open-end generation.\n",
            "Setting `pad_token_id` to `eos_token_id`:50256 for open-end generation.\n",
            "Setting `pad_token_id` to `eos_token_id`:50256 for open-end generation.\n",
            "Setting `pad_token_id` to `eos_token_id`:50256 for open-end generation.\n",
            "Setting `pad_token_id` to `eos_token_id`:50256 for open-end generation.\n",
            "Setting `pad_token_id` to `eos_token_id`:50256 for open-end generation.\n",
            "Setting `pad_token_id` to `eos_token_id`:50256 for open-end generation.\n",
            "Setting `pad_token_id` to `eos_token_id`:50256 for open-end generation.\n",
            "Setting `pad_token_id` to `eos_token_id`:50256 for open-end generation.\n",
            "Setting `pad_token_id` to `eos_token_id`:50256 for open-end generation.\n",
            "Setting `pad_token_id` to `eos_token_id`:50256 for open-end generation.\n",
            "Setting `pad_token_id` to `eos_token_id`:50256 for open-end generation.\n",
            "Setting `pad_token_id` to `eos_token_id`:50256 for open-end generation.\n",
            "Setting `pad_token_id` to `eos_token_id`:50256 for open-end generation.\n",
            "Setting `pad_token_id` to `eos_token_id`:50256 for open-end generation.\n",
            "Setting `pad_token_id` to `eos_token_id`:50256 for open-end generation.\n",
            "Setting `pad_token_id` to `eos_token_id`:50256 for open-end generation.\n",
            "Setting `pad_token_id` to `eos_token_id`:50256 for open-end generation.\n",
            "Setting `pad_token_id` to `eos_token_id`:50256 for open-end generation.\n",
            "Setting `pad_token_id` to `eos_token_id`:50256 for open-end generation.\n",
            "Setting `pad_token_id` to `eos_token_id`:50256 for open-end generation.\n",
            "Setting `pad_token_id` to `eos_token_id`:50256 for open-end generation.\n",
            "Setting `pad_token_id` to `eos_token_id`:50256 for open-end generation.\n",
            "Setting `pad_token_id` to `eos_token_id`:50256 for open-end generation.\n",
            "Setting `pad_token_id` to `eos_token_id`:50256 for open-end generation.\n",
            "Setting `pad_token_id` to `eos_token_id`:50256 for open-end generation.\n",
            "Setting `pad_token_id` to `eos_token_id`:50256 for open-end generation.\n",
            "Setting `pad_token_id` to `eos_token_id`:50256 for open-end generation.\n",
            "Setting `pad_token_id` to `eos_token_id`:50256 for open-end generation.\n",
            "Setting `pad_token_id` to `eos_token_id`:50256 for open-end generation.\n",
            "Setting `pad_token_id` to `eos_token_id`:50256 for open-end generation.\n",
            "Setting `pad_token_id` to `eos_token_id`:50256 for open-end generation.\n",
            "Setting `pad_token_id` to `eos_token_id`:50256 for open-end generation.\n",
            "Setting `pad_token_id` to `eos_token_id`:50256 for open-end generation.\n",
            "Setting `pad_token_id` to `eos_token_id`:50256 for open-end generation.\n",
            "Setting `pad_token_id` to `eos_token_id`:50256 for open-end generation.\n",
            "Setting `pad_token_id` to `eos_token_id`:50256 for open-end generation.\n",
            "Setting `pad_token_id` to `eos_token_id`:50256 for open-end generation.\n",
            "Setting `pad_token_id` to `eos_token_id`:50256 for open-end generation.\n",
            "Setting `pad_token_id` to `eos_token_id`:50256 for open-end generation.\n",
            "Setting `pad_token_id` to `eos_token_id`:50256 for open-end generation.\n",
            "Setting `pad_token_id` to `eos_token_id`:50256 for open-end generation.\n",
            "Setting `pad_token_id` to `eos_token_id`:50256 for open-end generation.\n",
            "Setting `pad_token_id` to `eos_token_id`:50256 for open-end generation.\n",
            "Setting `pad_token_id` to `eos_token_id`:50256 for open-end generation.\n",
            "Setting `pad_token_id` to `eos_token_id`:50256 for open-end generation.\n",
            "Setting `pad_token_id` to `eos_token_id`:50256 for open-end generation.\n",
            "Setting `pad_token_id` to `eos_token_id`:50256 for open-end generation.\n"
          ]
        },
        {
          "output_type": "stream",
          "name": "stdout",
          "text": [
            "\n",
            "===== Efficiency Comparison =====\n",
            "\n",
            "+---------------------+---------------------+-------------+\n",
            "|        Model        | Inference Time (ms) | Memory (MB) |\n",
            "+---------------------+---------------------+-------------+\n",
            "|   Standard GPT-2    |        96.22        |   9465.81   |\n",
            "|     Flash GPT-2     |        73.42        |   8867.81   |\n",
            "| Flash + ALiBi GPT-2 |        87.08        |   8865.81   |\n",
            "|   Flash + Sparse    |        86.86        |   8877.81   |\n",
            "+---------------------+---------------------+-------------+\n",
            "\n",
            "===== Quality Comparison =====\n",
            "\n",
            "+---------------------+---------+---------+---------+--------+\n",
            "|        Model        | ROUGE-1 | ROUGE-2 | ROUGE-L |  BLEU  |\n",
            "+---------------------+---------+---------+---------+--------+\n",
            "|   Standard GPT-2    | 0.1806  | 0.0804  | 0.1215  | 0.0263 |\n",
            "|     Flash GPT-2     | 0.1608  | 0.0691  | 0.1076  | 0.0221 |\n",
            "| Flash + ALiBi GPT-2 | 0.1975  | 0.0868  | 0.1320  | 0.0295 |\n",
            "|   Flash + Sparse    | 0.1943  | 0.0856  | 0.1303  | 0.0282 |\n",
            "+---------------------+---------+---------+---------+--------+\n"
          ]
        },
        {
          "output_type": "display_data",
          "data": {
            "text/plain": [
              "<Figure size 1000x600 with 1 Axes>"
            ],
            "image/png": "[encoded data removed]"
          },
          "metadata": {}
        },
        {
          "output_type": "display_data",
          "data": {
            "text/plain": [
              "<Figure size 1200x600 with 1 Axes>"
            ],
            "image/png": "[encoded data removed]"
          },
          "metadata": {}
        }
      ]
    }
  ]
}